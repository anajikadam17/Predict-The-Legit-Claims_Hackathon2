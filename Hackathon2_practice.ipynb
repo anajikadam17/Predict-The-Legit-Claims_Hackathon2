{
 "cells": [
  {
   "cell_type": "markdown",
   "metadata": {},
   "source": [
    "# Risk management for Travel Insurance Company"
   ]
  },
  {
   "cell_type": "markdown",
   "metadata": {},
   "source": [
    "### Problem Description\n",
    "Insurance companies take risks over customers. Risk management is a very important aspect of the insurance industry. Insurers consider every quantifiable factor to develop profiles of high and low insurance risks. Insurers collect vast amounts of information about policyholders and analyze the data.\n",
    "\n",
    "As a Data scientist in an insurance company, you need to analyze the available data and predict whether to sanction the insurance or not.\n",
    "\n",
    "### Dataset Description\n",
    "A zipped file containing train, test and sample submission files are given. The training dataset consists of data corresponding to 52310 customers and the test dataset consists of 22421 customers. Following are the features of the dataset\n",
    "\n",
    "Target: Claim Status (Claim)\n",
    "\n",
    "Name of agency (Agency)\n",
    "\n",
    "Type of travel insurance agencies (Agency.Type)\n",
    "\n",
    "Distribution channel of travel insurance agencies (Distribution.Channel)\n",
    "\n",
    "Name of the travel insurance products (Product.Name)\n",
    "\n",
    "Duration of travel (Duration)\n",
    "\n",
    "Destination of travel (Destination)\n",
    "\n",
    "Amount of sales of travel insurance policies (Net.Sales)\n",
    "\n",
    "The commission received for travel insurance agency (Commission)\n",
    "\n",
    "Age of insured (Age)\n",
    "\n",
    "The identification record of every observation (ID)\n",
    "\n",
    "Evaluation Metric\n",
    "The evaluation metric for this task will be precision_score. Read up about it more here.\n",
    "\n",
    "### Submission Format\n",
    "The user has to submit a csv file with the ID and Claim label. Sample submission file has been given to you. You can refer the sample submission file."
   ]
  },
  {
   "cell_type": "code",
   "execution_count": 1,
   "metadata": {},
   "outputs": [],
   "source": [
    "# Import Libraries\n",
    "import numpy as np\n",
    "import pickle\n",
    "import pandas as pd\n",
    "import matplotlib.pyplot as plt\n",
    "import seaborn as sns\n",
    "%matplotlib inline\n",
    "import warnings\n",
    "warnings.filterwarnings('ignore')\n",
    "from sklearn.preprocessing import LabelEncoder,MinMaxScaler,StandardScaler\n",
    "from sklearn.linear_model import LogisticRegression, LinearRegression\n",
    "from sklearn.tree import DecisionTreeClassifier, DecisionTreeRegressor\n",
    "from sklearn.ensemble import GradientBoostingClassifier ,RandomForestClassifier ,GradientBoostingClassifier, RandomForestRegressor\n",
    "from xgboost import XGBClassifier, XGBRegressor\n",
    "from sklearn.model_selection import GridSearchCV, RandomizedSearchCV\n",
    "from sklearn.linear_model import Ridge,Lasso\n",
    "from sklearn.metrics import roc_auc_score ,accuracy_score,classification_report,roc_curve,precision_score, r2_score\n",
    "import warnings\n",
    "warnings.filterwarnings('ignore')\n",
    "from scipy.stats.mstats import winsorize\n",
    "from sklearn.feature_selection import RFE\n",
    "from sklearn.model_selection import train_test_split\n",
    "pd.set_option('display.max_columns',None)"
   ]
  },
  {
   "cell_type": "code",
   "execution_count": 2,
   "metadata": {},
   "outputs": [],
   "source": [
    "# Load the data by path\n",
    "def LoadData(path):\n",
    "    data = pd.read_csv(path,delimiter=',')\n",
    "    return data"
   ]
  },
  {
   "cell_type": "code",
   "execution_count": 3,
   "metadata": {},
   "outputs": [
    {
     "name": "stdout",
     "output_type": "stream",
     "text": [
      "Shape of the data is:  (52310, 11)\n"
     ]
    },
    {
     "data": {
      "text/html": [
       "<div>\n",
       "<style scoped>\n",
       "    .dataframe tbody tr th:only-of-type {\n",
       "        vertical-align: middle;\n",
       "    }\n",
       "\n",
       "    .dataframe tbody tr th {\n",
       "        vertical-align: top;\n",
       "    }\n",
       "\n",
       "    .dataframe thead th {\n",
       "        text-align: right;\n",
       "    }\n",
       "</style>\n",
       "<table border=\"1\" class=\"dataframe\">\n",
       "  <thead>\n",
       "    <tr style=\"text-align: right;\">\n",
       "      <th></th>\n",
       "      <th>ID</th>\n",
       "      <th>Agency</th>\n",
       "      <th>Agency Type</th>\n",
       "      <th>Distribution Channel</th>\n",
       "      <th>Product Name</th>\n",
       "      <th>Duration</th>\n",
       "      <th>Destination</th>\n",
       "      <th>Net Sales</th>\n",
       "      <th>Commision (in value)</th>\n",
       "      <th>Age</th>\n",
       "      <th>Claim</th>\n",
       "    </tr>\n",
       "  </thead>\n",
       "  <tbody>\n",
       "    <tr>\n",
       "      <th>0</th>\n",
       "      <td>2010</td>\n",
       "      <td>EPX</td>\n",
       "      <td>Travel Agency</td>\n",
       "      <td>Online</td>\n",
       "      <td>Cancellation Plan</td>\n",
       "      <td>61</td>\n",
       "      <td>PHILIPPINES</td>\n",
       "      <td>12.0</td>\n",
       "      <td>0.00</td>\n",
       "      <td>41</td>\n",
       "      <td>0</td>\n",
       "    </tr>\n",
       "    <tr>\n",
       "      <th>1</th>\n",
       "      <td>4245</td>\n",
       "      <td>EPX</td>\n",
       "      <td>Travel Agency</td>\n",
       "      <td>Online</td>\n",
       "      <td>Cancellation Plan</td>\n",
       "      <td>4</td>\n",
       "      <td>MALAYSIA</td>\n",
       "      <td>17.0</td>\n",
       "      <td>0.00</td>\n",
       "      <td>35</td>\n",
       "      <td>0</td>\n",
       "    </tr>\n",
       "    <tr>\n",
       "      <th>2</th>\n",
       "      <td>9251</td>\n",
       "      <td>CWT</td>\n",
       "      <td>Travel Agency</td>\n",
       "      <td>Online</td>\n",
       "      <td>Rental Vehicle Excess Insurance</td>\n",
       "      <td>26</td>\n",
       "      <td>THAILAND</td>\n",
       "      <td>19.8</td>\n",
       "      <td>11.88</td>\n",
       "      <td>47</td>\n",
       "      <td>0</td>\n",
       "    </tr>\n",
       "    <tr>\n",
       "      <th>3</th>\n",
       "      <td>4754</td>\n",
       "      <td>EPX</td>\n",
       "      <td>Travel Agency</td>\n",
       "      <td>Online</td>\n",
       "      <td>2 way Comprehensive Plan</td>\n",
       "      <td>15</td>\n",
       "      <td>HONG KONG</td>\n",
       "      <td>27.0</td>\n",
       "      <td>0.00</td>\n",
       "      <td>48</td>\n",
       "      <td>0</td>\n",
       "    </tr>\n",
       "    <tr>\n",
       "      <th>4</th>\n",
       "      <td>8840</td>\n",
       "      <td>EPX</td>\n",
       "      <td>Travel Agency</td>\n",
       "      <td>Online</td>\n",
       "      <td>2 way Comprehensive Plan</td>\n",
       "      <td>15</td>\n",
       "      <td>MALAYSIA</td>\n",
       "      <td>37.0</td>\n",
       "      <td>0.00</td>\n",
       "      <td>36</td>\n",
       "      <td>0</td>\n",
       "    </tr>\n",
       "  </tbody>\n",
       "</table>\n",
       "</div>"
      ],
      "text/plain": [
       "     ID Agency    Agency Type Distribution Channel  \\\n",
       "0  2010    EPX  Travel Agency               Online   \n",
       "1  4245    EPX  Travel Agency               Online   \n",
       "2  9251    CWT  Travel Agency               Online   \n",
       "3  4754    EPX  Travel Agency               Online   \n",
       "4  8840    EPX  Travel Agency               Online   \n",
       "\n",
       "                      Product Name  Duration  Destination  Net Sales  \\\n",
       "0                Cancellation Plan        61  PHILIPPINES       12.0   \n",
       "1                Cancellation Plan         4     MALAYSIA       17.0   \n",
       "2  Rental Vehicle Excess Insurance        26     THAILAND       19.8   \n",
       "3         2 way Comprehensive Plan        15    HONG KONG       27.0   \n",
       "4         2 way Comprehensive Plan        15     MALAYSIA       37.0   \n",
       "\n",
       "   Commision (in value)  Age  Claim  \n",
       "0                  0.00   41      0  \n",
       "1                  0.00   35      0  \n",
       "2                 11.88   47      0  \n",
       "3                  0.00   48      0  \n",
       "4                  0.00   36      0  "
      ]
     },
     "execution_count": 3,
     "metadata": {},
     "output_type": "execute_result"
    }
   ],
   "source": [
    "path = 'data/train.csv'\n",
    "df = LoadData(path)\n",
    "print('Shape of the data is: ',df.shape)\n",
    "df.head()"
   ]
  },
  {
   "cell_type": "code",
   "execution_count": 4,
   "metadata": {
    "scrolled": true
   },
   "outputs": [
    {
     "name": "stdout",
     "output_type": "stream",
     "text": [
      "<class 'pandas.core.frame.DataFrame'>\n",
      "RangeIndex: 52310 entries, 0 to 52309\n",
      "Data columns (total 11 columns):\n",
      " #   Column                Non-Null Count  Dtype  \n",
      "---  ------                --------------  -----  \n",
      " 0   ID                    52310 non-null  int64  \n",
      " 1   Agency                52310 non-null  object \n",
      " 2   Agency Type           52310 non-null  object \n",
      " 3   Distribution Channel  52310 non-null  object \n",
      " 4   Product Name          52310 non-null  object \n",
      " 5   Duration              52310 non-null  int64  \n",
      " 6   Destination           52310 non-null  object \n",
      " 7   Net Sales             52310 non-null  float64\n",
      " 8   Commision (in value)  52310 non-null  float64\n",
      " 9   Age                   52310 non-null  int64  \n",
      " 10  Claim                 52310 non-null  int64  \n",
      "dtypes: float64(2), int64(4), object(5)\n",
      "memory usage: 4.4+ MB\n"
     ]
    }
   ],
   "source": [
    "df.info()"
   ]
  },
  {
   "cell_type": "code",
   "execution_count": 5,
   "metadata": {},
   "outputs": [],
   "source": [
    "# Function to identify numeric features\n",
    "def numeric_categorical_features(dataset):\n",
    "    cols = dataset.columns.tolist()\n",
    "    num_cols = dataset.select_dtypes(include=np.number).columns.tolist()\n",
    "    cat_cols = dataset.select_dtypes(exclude=np.number).columns.tolist()\n",
    "    return cols, num_cols, cat_cols"
   ]
  },
  {
   "cell_type": "code",
   "execution_count": 6,
   "metadata": {},
   "outputs": [
    {
     "name": "stdout",
     "output_type": "stream",
     "text": [
      "Number Features:\n",
      "11\n",
      "All Features list:\n",
      "['ID', 'Agency', 'Agency Type', 'Distribution Channel', 'Product Name', 'Duration', 'Destination', 'Net Sales', 'Commision (in value)', 'Age', 'Claim']\n",
      "================================================================================\n",
      "Number of Numeric Features:\n",
      "6\n",
      "Numeric Features list:\n",
      "['ID', 'Duration', 'Net Sales', 'Commision (in value)', 'Age', 'Claim']\n",
      "================================================================================\n",
      "Number of Categorical Features:\n",
      "5\n",
      "Categorical Features list:\n",
      "['Agency', 'Agency Type', 'Distribution Channel', 'Product Name', 'Destination']\n",
      "================================================================================\n"
     ]
    }
   ],
   "source": [
    "cols, num_cols, cat_cols = numeric_categorical_features(df)\n",
    "print(\"Number Features:\")\n",
    "print(len(cols))\n",
    "print(\"All Features list:\")\n",
    "print(cols)\n",
    "print(\"====\"*20)\n",
    "print(\"Number of Numeric Features:\")\n",
    "print(len(num_cols))\n",
    "print(\"Numeric Features list:\")\n",
    "print(num_cols)\n",
    "print(\"====\"*20)\n",
    "print(\"Number of Categorical Features:\")\n",
    "print(len(cat_cols))\n",
    "print(\"Categorical Features list:\")\n",
    "print(cat_cols)\n",
    "print(\"====\"*20)"
   ]
  },
  {
   "cell_type": "code",
   "execution_count": 7,
   "metadata": {},
   "outputs": [],
   "source": [
    "# Function to identify the number of missing values in every feature\n",
    "def missing_data(dataset):\n",
    "    print(\"Missing values in all Features: \")\n",
    "    total = dataset.isnull().sum().sort_values(ascending=False)\n",
    "    percent = (dataset.isnull().sum()/dataset.isnull().count()).sort_values(ascending=False)\n",
    "    missing_data = pd.concat([total, percent], axis=1, keys=['Total count', 'Percent'])\n",
    "    print(missing_data)\n",
    "\n",
    "#Check for Class Imbalance\n",
    "def class_imbalance(target):\n",
    "    print(\"Class Imbalance for Target Feature: \")\n",
    "    values_count = (target.value_counts())\n",
    "    class_perc = (target.value_counts()/target.value_counts().sum())*100\n",
    "    imbalance_data = pd.concat([values_count, class_perc], axis=1, keys=['Count', 'Percent'])\n",
    "    print(imbalance_data)\n"
   ]
  },
  {
   "cell_type": "code",
   "execution_count": 8,
   "metadata": {},
   "outputs": [
    {
     "name": "stdout",
     "output_type": "stream",
     "text": [
      "Missing values in all Features: \n",
      "                      Total count  Percent\n",
      "Claim                           0      0.0\n",
      "Age                             0      0.0\n",
      "Commision (in value)            0      0.0\n",
      "Net Sales                       0      0.0\n",
      "Destination                     0      0.0\n",
      "Duration                        0      0.0\n",
      "Product Name                    0      0.0\n",
      "Distribution Channel            0      0.0\n",
      "Agency Type                     0      0.0\n",
      "Agency                          0      0.0\n",
      "ID                              0      0.0\n"
     ]
    }
   ],
   "source": [
    "missing_data(df)\n"
   ]
  },
  {
   "cell_type": "code",
   "execution_count": 9,
   "metadata": {},
   "outputs": [
    {
     "name": "stdout",
     "output_type": "stream",
     "text": [
      "Class Imbalance for Target Feature: \n",
      "   Count    Percent\n",
      "0  43590  83.330147\n",
      "1   8720  16.669853\n"
     ]
    }
   ],
   "source": [
    "class_imbalance(df['Claim'])"
   ]
  },
  {
   "cell_type": "code",
   "execution_count": 10,
   "metadata": {},
   "outputs": [],
   "source": [
    "# Function that auto encodes any dataframe column of type category or object.\n",
    "def dummyEncode(dataset):\n",
    "    le = LabelEncoder()\n",
    "    columnsToEncode = list(dataset.select_dtypes(include=['category','object']))\n",
    "    for feature in columnsToEncode:\n",
    "        try:\n",
    "            dataset[feature] = le.fit_transform(dataset[feature])\n",
    "        except:\n",
    "            print('Error encoding '+feature)\n",
    "    return dataset"
   ]
  },
  {
   "cell_type": "code",
   "execution_count": 11,
   "metadata": {},
   "outputs": [],
   "source": [
    "def SplitData(data):\n",
    "    data.drop(columns=['ID'],axis=1,inplace=True)\n",
    "    # Predictors\n",
    "    dataframe = data.iloc[:,:-1]\n",
    "    # Target\n",
    "    target = data.iloc[:,-1]\n",
    "    X_train, X_test, y_train, y_test = train_test_split(dataframe, target, test_size=0.3, random_state=42)\n",
    "    return X_train, X_test, y_train, y_test"
   ]
  },
  {
   "cell_type": "code",
   "execution_count": 39,
   "metadata": {
    "scrolled": false
   },
   "outputs": [],
   "source": [
    "def SelectRegressor(X_train, X_test, y_train, y_test):\n",
    "    regressors = {\n",
    "        'Linear Regression' : LinearRegression(),\n",
    "        'Lasso' : Lasso(),\n",
    "        'Ridge' : Ridge(),\n",
    "        'Decision Tree' : DecisionTreeRegressor(),\n",
    "        'RandomForest Regressor' : RandomForestRegressor(),\n",
    "        'RandomForest Classifier' : RandomForestClassifier(),\n",
    "        'XGBoost' : XGBRegressor(),\n",
    "        'Gradient Boosting':GradientBoostingClassifier()\n",
    "    }\n",
    "\n",
    "    results=pd.DataFrame(columns=['AUC','R2-score','Accuracy'])\n",
    "    for method,func in regressors.items():\n",
    "        print(\"===\"*10+\" \"+method+\" \"+\"===\"*10)\n",
    "        func.fit(X_train,y_train)\n",
    "        pred = func.predict(X_test)\n",
    "        results.loc[method]= [roc_auc_score(y_test,pred),\n",
    "                              r2_score(y_test,pred),\n",
    "                              np.round(func.score(X_test,y_test)*100,2)]\n",
    "        print(\"==========\"*10) \n",
    "    print(\"Maximum Accuracy with \"+str(results[results['Accuracy']==max(results['Accuracy'])].index.tolist()[0])\n",
    "      +\" is \"+str(max(results['Accuracy']))+\"%\")\n",
    "    return results"
   ]
  },
  {
   "cell_type": "code",
   "execution_count": 40,
   "metadata": {},
   "outputs": [],
   "source": [
    "from imblearn.over_sampling import SMOTE, RandomOverSampler\n",
    "from imblearn.combine import SMOTETomek\n",
    "from imblearn.under_sampling import NearMiss\n",
    "def SelectSmote(data):\n",
    "    # Predictors\n",
    "    dataframe = data.iloc[:,:-1]\n",
    "    # Target\n",
    "    target = data.iloc[:,-1]\n",
    "    smote = {\n",
    "        'SMOTE' : SMOTE(),\n",
    "        'RandomOverSampler' : RandomOverSampler(),\n",
    "        'SMOTETomek' : SMOTETomek(),\n",
    "        'NearMiss' : NearMiss()\n",
    "    }\n",
    "    X_train, X_test, y_train, y_test = train_test_split(dataframe, target, test_size=0.3, random_state=42)\n",
    "    result=pd.DataFrame(columns=['Accuracy'])\n",
    "    for method,func in smote.items():\n",
    "        print(\"===\"*10+\" \"+method+\" \"+\" And RandomForestClassifier() \"+\"===\"*10)\n",
    "        X_train, y_train =  func.fit_sample(X_train, y_train)\n",
    "        rand = RandomForestClassifier()\n",
    "        rand.fit(X_train,y_train)\n",
    "        pred = rand.predict(X_test)\n",
    "        result.loc[method]= [np.round(rand.score(X_test,y_test)*100,2)]\n",
    "        print(\"==========\"*10) \n",
    "    print(\"Maximum Accuracy for  RandomForestClassifier after balanced data for \"\n",
    "          +str(result[result['Accuracy']==max(result['Accuracy'])].index.tolist()[0])+\"technique is \"\n",
    "          +str(max(result['Accuracy']))+\"%\")\n",
    "    return result"
   ]
  },
  {
   "cell_type": "code",
   "execution_count": 41,
   "metadata": {
    "scrolled": false
   },
   "outputs": [
    {
     "name": "stdout",
     "output_type": "stream",
     "text": [
      "============================== Linear Regression ==============================\n",
      "====================================================================================================\n",
      "============================== Lasso ==============================\n",
      "====================================================================================================\n",
      "============================== Ridge ==============================\n",
      "====================================================================================================\n",
      "============================== Decision Tree ==============================\n",
      "====================================================================================================\n",
      "============================== RandomForest Regressor ==============================\n",
      "====================================================================================================\n",
      "============================== RandomForest Classifier ==============================\n",
      "====================================================================================================\n",
      "============================== XGBoost ==============================\n",
      "====================================================================================================\n",
      "============================== Gradient Boosting ==============================\n",
      "====================================================================================================\n",
      "Maximum Accuracy with RandomForest Classifier is 93.95%\n"
     ]
    },
    {
     "data": {
      "text/html": [
       "<div>\n",
       "<style scoped>\n",
       "    .dataframe tbody tr th:only-of-type {\n",
       "        vertical-align: middle;\n",
       "    }\n",
       "\n",
       "    .dataframe tbody tr th {\n",
       "        vertical-align: top;\n",
       "    }\n",
       "\n",
       "    .dataframe thead th {\n",
       "        text-align: right;\n",
       "    }\n",
       "</style>\n",
       "<table border=\"1\" class=\"dataframe\">\n",
       "  <thead>\n",
       "    <tr style=\"text-align: right;\">\n",
       "      <th></th>\n",
       "      <th>AUC</th>\n",
       "      <th>R2-score</th>\n",
       "      <th>Accuracy</th>\n",
       "    </tr>\n",
       "  </thead>\n",
       "  <tbody>\n",
       "    <tr>\n",
       "      <th>Linear Regression</th>\n",
       "      <td>0.791182</td>\n",
       "      <td>0.198580</td>\n",
       "      <td>19.86</td>\n",
       "    </tr>\n",
       "    <tr>\n",
       "      <th>Lasso</th>\n",
       "      <td>0.719024</td>\n",
       "      <td>0.100583</td>\n",
       "      <td>10.06</td>\n",
       "    </tr>\n",
       "    <tr>\n",
       "      <th>Ridge</th>\n",
       "      <td>0.791161</td>\n",
       "      <td>0.198580</td>\n",
       "      <td>19.86</td>\n",
       "    </tr>\n",
       "    <tr>\n",
       "      <th>Decision Tree</th>\n",
       "      <td>0.858383</td>\n",
       "      <td>0.410032</td>\n",
       "      <td>41.00</td>\n",
       "    </tr>\n",
       "    <tr>\n",
       "      <th>RandomForest Regressor</th>\n",
       "      <td>0.967238</td>\n",
       "      <td>0.662406</td>\n",
       "      <td>66.24</td>\n",
       "    </tr>\n",
       "    <tr>\n",
       "      <th>RandomForest Classifier</th>\n",
       "      <td>0.876363</td>\n",
       "      <td>0.563670</td>\n",
       "      <td>93.95</td>\n",
       "    </tr>\n",
       "    <tr>\n",
       "      <th>XGBoost</th>\n",
       "      <td>0.964832</td>\n",
       "      <td>0.622262</td>\n",
       "      <td>62.23</td>\n",
       "    </tr>\n",
       "    <tr>\n",
       "      <th>Gradient Boosting</th>\n",
       "      <td>0.674691</td>\n",
       "      <td>0.008841</td>\n",
       "      <td>86.25</td>\n",
       "    </tr>\n",
       "  </tbody>\n",
       "</table>\n",
       "</div>"
      ],
      "text/plain": [
       "                              AUC  R2-score  Accuracy\n",
       "Linear Regression        0.791182  0.198580     19.86\n",
       "Lasso                    0.719024  0.100583     10.06\n",
       "Ridge                    0.791161  0.198580     19.86\n",
       "Decision Tree            0.858383  0.410032     41.00\n",
       "RandomForest Regressor   0.967238  0.662406     66.24\n",
       "RandomForest Classifier  0.876363  0.563670     93.95\n",
       "XGBoost                  0.964832  0.622262     62.23\n",
       "Gradient Boosting        0.674691  0.008841     86.25"
      ]
     },
     "execution_count": 41,
     "metadata": {},
     "output_type": "execute_result"
    }
   ],
   "source": [
    "path = 'data/train.csv'\n",
    "df = LoadData(path)\n",
    "df = dummyEncode(df)\n",
    "X_train, X_test, y_train, y_test = SplitData(df)\n",
    "SelectRegressor_result = SelectRegressor(X_train, X_test, y_train, y_test)\n",
    "SelectRegressor_result"
   ]
  },
  {
   "cell_type": "code",
   "execution_count": 22,
   "metadata": {},
   "outputs": [
    {
     "name": "stdout",
     "output_type": "stream",
     "text": [
      "============================== SMOTE  And RandomForestClassifier() ==============================\n",
      "====================================================================================================\n",
      "============================== RandomOverSampler  And RandomForestClassifier() ==============================\n",
      "====================================================================================================\n",
      "============================== SMOTETomek  And RandomForestClassifier() ==============================\n",
      "====================================================================================================\n",
      "============================== NearMiss  And RandomForestClassifier() ==============================\n",
      "====================================================================================================\n",
      "Maximum Accuracy for  RandomForestClassifier after balanced data for SMOTEtechnique is 92.17%\n"
     ]
    },
    {
     "data": {
      "text/html": [
       "<div>\n",
       "<style scoped>\n",
       "    .dataframe tbody tr th:only-of-type {\n",
       "        vertical-align: middle;\n",
       "    }\n",
       "\n",
       "    .dataframe tbody tr th {\n",
       "        vertical-align: top;\n",
       "    }\n",
       "\n",
       "    .dataframe thead th {\n",
       "        text-align: right;\n",
       "    }\n",
       "</style>\n",
       "<table border=\"1\" class=\"dataframe\">\n",
       "  <thead>\n",
       "    <tr style=\"text-align: right;\">\n",
       "      <th></th>\n",
       "      <th>Accuracy</th>\n",
       "    </tr>\n",
       "  </thead>\n",
       "  <tbody>\n",
       "    <tr>\n",
       "      <th>SMOTE</th>\n",
       "      <td>92.17</td>\n",
       "    </tr>\n",
       "    <tr>\n",
       "      <th>RandomOverSampler</th>\n",
       "      <td>92.05</td>\n",
       "    </tr>\n",
       "    <tr>\n",
       "      <th>SMOTETomek</th>\n",
       "      <td>91.86</td>\n",
       "    </tr>\n",
       "    <tr>\n",
       "      <th>NearMiss</th>\n",
       "      <td>91.87</td>\n",
       "    </tr>\n",
       "  </tbody>\n",
       "</table>\n",
       "</div>"
      ],
      "text/plain": [
       "                   Accuracy\n",
       "SMOTE                 92.17\n",
       "RandomOverSampler     92.05\n",
       "SMOTETomek            91.86\n",
       "NearMiss              91.87"
      ]
     },
     "execution_count": 22,
     "metadata": {},
     "output_type": "execute_result"
    }
   ],
   "source": [
    "SelectSmote_result = SelectSmote(df)\n",
    "SelectSmote_result"
   ]
  },
  {
   "cell_type": "markdown",
   "metadata": {},
   "source": [
    "## After balanced data Accuracy is good with SMOTE, But Before Balancing the accuracy is Good with RandomForest Classifier only"
   ]
  },
  {
   "cell_type": "code",
   "execution_count": 19,
   "metadata": {},
   "outputs": [],
   "source": [
    "path = 'data/train.csv'\n",
    "df = LoadData(path)\n",
    "df = dummyEncode(df)\n",
    "X_train, X_test, y_train, y_test = SplitData(df)"
   ]
  },
  {
   "cell_type": "code",
   "execution_count": 20,
   "metadata": {},
   "outputs": [
    {
     "name": "stdout",
     "output_type": "stream",
     "text": [
      "Best Parameters are:\n"
     ]
    },
    {
     "data": {
      "text/plain": [
       "{'criterion': 'gini', 'max_depth': 8, 'max_features': 'sqrt'}"
      ]
     },
     "execution_count": 20,
     "metadata": {},
     "output_type": "execute_result"
    }
   ],
   "source": [
    "def grid_search_random_forrest(data):\n",
    "        # Predictors\n",
    "    X = data.iloc[:,:-1]\n",
    "    # Target\n",
    "    y = data.iloc[:,-1]\n",
    "    X_train, X_test, y_train, y_test = train_test_split(X,y, test_size=0.3, random_state=42, stratify=y)\n",
    "    rfc = RandomForestClassifier()\n",
    "    param_grid = { \n",
    "    'max_features': ['auto', 'sqrt', 'log2'],\n",
    "    'max_depth' : [4,5,6,7,8],\n",
    "    'criterion' :['gini', 'entropy']\n",
    "    }\n",
    "    grid_search_model = GridSearchCV(rfc, param_grid=param_grid)\n",
    "    grid_search_model.fit(X_train, y_train)\n",
    "    print('Best Parameters are:')\n",
    "    return grid_search_model.best_params_\n",
    "\n",
    "grid_search_random_forrest(df)"
   ]
  },
  {
   "cell_type": "code",
   "execution_count": 50,
   "metadata": {},
   "outputs": [],
   "source": [
    "path = 'data/train.csv'\n",
    "df = LoadData(path)\n",
    "df = dummyEncode(df)\n",
    "X_train, X_test, y_train, y_test = SplitData(df)\n"
   ]
  },
  {
   "cell_type": "code",
   "execution_count": 54,
   "metadata": {},
   "outputs": [
    {
     "name": "stdout",
     "output_type": "stream",
     "text": [
      "score is: 93.88\n"
     ]
    }
   ],
   "source": [
    "def RandomForest(X_train, X_test, y_train, y_test):\n",
    "    rfc_clf=RandomForestClassifier()\n",
    "    rfc_clf.fit(X_train, y_train)\n",
    "    pred=rfc_clf.predict(X_test)\n",
    "    score=np.round(rfc_clf.score(X_test,y_test)*100,2)\n",
    "    return score\n",
    "\n",
    "#trainning\n",
    "\n",
    "score = RandomForest(X_train, X_test, y_train, y_test)    \n",
    "print('score is:',score)"
   ]
  },
  {
   "cell_type": "code",
   "execution_count": 53,
   "metadata": {},
   "outputs": [
    {
     "name": "stdout",
     "output_type": "stream",
     "text": [
      "score is: 86.52\n"
     ]
    }
   ],
   "source": [
    "def RandomForest(X_train, X_test, y_train, y_test):\n",
    "    rfc_clf=RandomForestClassifier(criterion= 'gini', max_depth= 8, max_features= 'sqrt')\n",
    "    rfc_clf.fit(X_train, y_train)\n",
    "    pred=rfc_clf.predict(X_test)\n",
    "    score=np.round(rfc_clf.score(X_test,y_test)*100,2)\n",
    "    return score\n",
    "\n",
    "#trainning\n",
    "\n",
    "score = RandomForest(X_train, X_test, y_train, y_test)    \n",
    "print('score is:',score)"
   ]
  },
  {
   "cell_type": "markdown",
   "metadata": {},
   "source": [
    "## After Parameter tunning a Accuracy is not good decreases so this weak model boosting"
   ]
  },
  {
   "cell_type": "code",
   "execution_count": 63,
   "metadata": {},
   "outputs": [],
   "source": [
    "from xgboost import XGBClassifier\n",
    "from sklearn.ensemble import AdaBoostClassifier #For Classification\n",
    "from sklearn.ensemble import AdaBoostRegressor #For Regression\n",
    "from sklearn.ensemble import GradientBoostingClassifier #For Classification\n",
    "from sklearn.ensemble import GradientBoostingRegressor #For Regression\n",
    "def SelectBoost(data):\n",
    "    # Predictors\n",
    "    dataframe = data.iloc[:,:-1]\n",
    "    # Target\n",
    "    target = data.iloc[:,-1]\n",
    "    smote = {\n",
    "        'XGBClassifier' : XGBClassifier(),\n",
    "        'AdaBoostClassifier' : AdaBoostClassifier(),\n",
    "        'GradientBoostingClassifier' : GradientBoostingClassifier()\n",
    "    }\n",
    "    X_train, X_test, y_train, y_test = train_test_split(dataframe, target, test_size=0.3, random_state=42)\n",
    "    result=pd.DataFrame(columns=['Accuracy'])\n",
    "    for method,func in smote.items():\n",
    "        print(\"===\"*10+\" \"+method+\" \"+\" And RandomForestClassifier() \"+\"===\"*10)\n",
    "        func.fit(X_train,y_train)\n",
    "        pred = func.predict(X_test)\n",
    "        result.loc[method]= [np.round(func.score(X_test,y_test)*100,2)]\n",
    "        print(\"==========\"*10) \n",
    "    print(\"Maximum Accuracy for  RandomForestClassifier after balanced data for \"\n",
    "          +str(result[result['Accuracy']==max(result['Accuracy'])].index.tolist()[0])+\"technique is \"\n",
    "          +str(max(result['Accuracy']))+\"%\")\n",
    "    return result"
   ]
  },
  {
   "cell_type": "code",
   "execution_count": 64,
   "metadata": {},
   "outputs": [
    {
     "name": "stdout",
     "output_type": "stream",
     "text": [
      "============================== XGBClassifier  And RandomForestClassifier() ==============================\n",
      "====================================================================================================\n",
      "============================== AdaBoostClassifier  And RandomForestClassifier() ==============================\n",
      "====================================================================================================\n",
      "============================== GradientBoostingClassifier  And RandomForestClassifier() ==============================\n",
      "====================================================================================================\n",
      "Maximum Accuracy for  RandomForestClassifier after balanced data for XGBClassifiertechnique is 92.66%\n"
     ]
    },
    {
     "data": {
      "text/html": [
       "<div>\n",
       "<style scoped>\n",
       "    .dataframe tbody tr th:only-of-type {\n",
       "        vertical-align: middle;\n",
       "    }\n",
       "\n",
       "    .dataframe tbody tr th {\n",
       "        vertical-align: top;\n",
       "    }\n",
       "\n",
       "    .dataframe thead th {\n",
       "        text-align: right;\n",
       "    }\n",
       "</style>\n",
       "<table border=\"1\" class=\"dataframe\">\n",
       "  <thead>\n",
       "    <tr style=\"text-align: right;\">\n",
       "      <th></th>\n",
       "      <th>Accuracy</th>\n",
       "    </tr>\n",
       "  </thead>\n",
       "  <tbody>\n",
       "    <tr>\n",
       "      <th>XGBClassifier</th>\n",
       "      <td>92.66</td>\n",
       "    </tr>\n",
       "    <tr>\n",
       "      <th>AdaBoostClassifier</th>\n",
       "      <td>85.34</td>\n",
       "    </tr>\n",
       "    <tr>\n",
       "      <th>GradientBoostingClassifier</th>\n",
       "      <td>86.25</td>\n",
       "    </tr>\n",
       "  </tbody>\n",
       "</table>\n",
       "</div>"
      ],
      "text/plain": [
       "                            Accuracy\n",
       "XGBClassifier                  92.66\n",
       "AdaBoostClassifier             85.34\n",
       "GradientBoostingClassifier     86.25"
      ]
     },
     "execution_count": 64,
     "metadata": {},
     "output_type": "execute_result"
    }
   ],
   "source": [
    "SelectBoost_result = SelectBoost(df)\n",
    "SelectBoost_result"
   ]
  },
  {
   "cell_type": "markdown",
   "metadata": {},
   "source": [
    "## with XGBClassifier  Boosting score improved so we can go with XGBClassifier  parameter tuning"
   ]
  },
  {
   "cell_type": "code",
   "execution_count": null,
   "metadata": {},
   "outputs": [],
   "source": [
    "path = 'data/train.csv'\n",
    "df = LoadData(path)\n",
    "df = dummyEncode(df)"
   ]
  },
  {
   "cell_type": "code",
   "execution_count": 22,
   "metadata": {
    "scrolled": true
   },
   "outputs": [
    {
     "name": "stdout",
     "output_type": "stream",
     "text": [
      "Best Parameters are:\n"
     ]
    },
    {
     "data": {
      "text/plain": [
       "{'gamma': 0.7,\n",
       " 'grow_policy': 'lossguide',\n",
       " 'learning_rate': 0.8,\n",
       " 'max_depth': 8,\n",
       " 'min_child_weight': 5,\n",
       " 'scale_pos_weight': 0.1}"
      ]
     },
     "execution_count": 22,
     "metadata": {},
     "output_type": "execute_result"
    }
   ],
   "source": [
    "def grid_search_XGboost(data):\n",
    "        # Predictors\n",
    "    X = data.iloc[:,:-1]\n",
    "    # Target\n",
    "    y = data.iloc[:,-1]\n",
    "    X_train, X_test, y_train, y_test = train_test_split(X,y, test_size=0.3, random_state=42, stratify=y)\n",
    "    xgbc = XGBClassifier()\n",
    "    param_grid = { \n",
    "        'learning_rate' : [0.2,0.4,0.6,0.8,1],\n",
    "        'max_depth' : [4,6,8],\n",
    "        'gamma' : [0.5,0.7,0.9],\n",
    "        'min_child_weight': [3,5,7],\n",
    "        'scale_pos_weight':[0.1,0.3,0.5],\n",
    "        'grow_policy':['lossguide']\n",
    "        }\n",
    "    grid_search_model = GridSearchCV(xgbc, param_grid=param_grid)\n",
    "    grid_search_model.fit(X_train, y_train)\n",
    "    print('Best Parameters are:')\n",
    "    return grid_search_model.best_params_\n",
    "\n",
    "grid_search_XGboost(df)"
   ]
  },
  {
   "cell_type": "code",
   "execution_count": null,
   "metadata": {},
   "outputs": [],
   "source": [
    "xgbc = XGBClassifier(base_estimator=rfc_clf\n",
    "                     ,random_state=42\n",
    "                     ,learning_rate=0.8\n",
    "                     ,gamma=0.7\n",
    "                     ,max_depth=8\n",
    "                     ,min_child_weight=5\n",
    "                     ,scale_pos_weight=0.1\n",
    "                     ,grow_policy='lossguide')"
   ]
  },
  {
   "cell_type": "code",
   "execution_count": 74,
   "metadata": {},
   "outputs": [
    {
     "name": "stdout",
     "output_type": "stream",
     "text": [
      "score is: 92.66\n"
     ]
    }
   ],
   "source": [
    "def XGboost(X_train, X_test, y_train, y_test):\n",
    "    xgbc = XGBClassifier()\n",
    "    xgbc.fit(X_train, y_train)\n",
    "    pred=xgbc.predict(X_test)\n",
    "    score=np.round(xgbc.score(X_test,y_test)*100,2)\n",
    "    return score\n",
    "\n",
    "#trainning\n",
    "path = 'data/train.csv'\n",
    "df = LoadData(path)\n",
    "df = dummyEncode(df)\n",
    "X_train, X_test, y_train, y_test = SplitData(df)\n",
    "score = XGboost(X_train, X_test, y_train, y_test)    \n",
    "print('score is:',score)"
   ]
  },
  {
   "cell_type": "code",
   "execution_count": 26,
   "metadata": {},
   "outputs": [
    {
     "name": "stdout",
     "output_type": "stream",
     "text": [
      "Score is 92.66 and Precision is 0.8143841515934539.\n"
     ]
    }
   ],
   "source": [
    "def XGboost(X_train, X_test, y_train, y_test):\n",
    "    xgbc = XGBClassifier()\n",
    "    xgbc.fit(X_train, y_train)\n",
    "    pred=xgbc.predict(X_test)\n",
    "    score=np.round(xgbc.score(X_test,y_test)*100,2)\n",
    "    precision=precision_score(y_test,pred)\n",
    "    return score,precision\n",
    "\n",
    "#trainning\n",
    "path = 'data/train.csv'\n",
    "df = LoadData(path)\n",
    "df = dummyEncode(df)\n",
    "X_train, X_test, y_train, y_test = SplitData(df)\n",
    "score,precision = XGboost(X_train, X_test, y_train, y_test)    \n",
    "print('Score is {} and Precision is {}.'.format(score,precision))"
   ]
  },
  {
   "cell_type": "code",
   "execution_count": 29,
   "metadata": {},
   "outputs": [
    {
     "name": "stdout",
     "output_type": "stream",
     "text": [
      "[00:24:12] WARNING: C:\\Users\\Administrator\\workspace\\xgboost-win64_release_1.1.0\\src\\learner.cc:480: \n",
      "Parameters: { base_estimator } might not be used.\n",
      "\n",
      "  This may not be accurate due to some parameters are only used in language bindings but\n",
      "  passed down to XGBoost core.  Or some parameters are not used but slip through this\n",
      "  verification. Please open an issue if you find above cases.\n",
      "\n",
      "\n",
      "Score is 86.96 and Precision is 0.9578606158833063.\n"
     ]
    }
   ],
   "source": [
    "def XGboost(X_train, X_test, y_train, y_test):\n",
    "    rfc_clf=RandomForestClassifier()\n",
    "    xgbc = XGBClassifier(base_estimator=rfc_clf\n",
    "                         ,random_state=42\n",
    "                         ,learning_rate=0.8\n",
    "                         ,gamma=0.7\n",
    "                         ,max_depth=8\n",
    "                         ,min_child_weight=5\n",
    "                         ,scale_pos_weight=0.1\n",
    "                         ,grow_policy='lossguide')\n",
    "    xgbc.fit(X_train, y_train)\n",
    "    pred=xgbc.predict(X_test)\n",
    "    score=np.round(xgbc.score(X_test,y_test)*100,2)\n",
    "    precision=precision_score(y_test,pred)\n",
    "    return score,precision\n",
    "\n",
    "#trainning\n",
    "path = 'data/train.csv'\n",
    "df = LoadData(path)\n",
    "df = dummyEncode(df)\n",
    "X_train, X_test, y_train, y_test = SplitData(df)\n",
    "score,precision = XGboost(X_train, X_test, y_train, y_test)    \n",
    "print('Score is {} and Precision is {}.'.format(score,precision))"
   ]
  },
  {
   "cell_type": "code",
   "execution_count": 28,
   "metadata": {},
   "outputs": [
    {
     "name": "stdout",
     "output_type": "stream",
     "text": [
      "[00:20:31] WARNING: C:\\Users\\Administrator\\workspace\\xgboost-win64_release_1.1.0\\src\\learner.cc:480: \n",
      "Parameters: { base_estimator } might not be used.\n",
      "\n",
      "  This may not be accurate due to some parameters are only used in language bindings but\n",
      "  passed down to XGBoost core.  Or some parameters are not used but slip through this\n",
      "  verification. Please open an issue if you find above cases.\n",
      "\n",
      "\n",
      "score is: 0.9578606158833063\n"
     ]
    }
   ],
   "source": [
    "def XGboost(X_train, X_test, y_train, y_test):\n",
    "    rfc_clf=RandomForestClassifier()\n",
    "    xgbc = XGBClassifier(base_estimator=rfc_clf\n",
    "                         ,random_state=42\n",
    "                         ,learning_rate=0.8\n",
    "                         ,gamma=0.7\n",
    "                         ,max_depth=8\n",
    "                         ,min_child_weight=5\n",
    "                         ,scale_pos_weight=0.1\n",
    "                         ,grow_policy='lossguide')\n",
    "    xgbc.fit(X_train, y_train)\n",
    "    pickle.dump(xgbc, open(\"model.pkl\", \"wb\"))\n",
    "    pred=xgbc.predict(X_test)\n",
    "    precision=precision_score(y_test,pred)\n",
    "    return precision\n",
    "\n",
    "#trainning\n",
    "path = 'data/train.csv'\n",
    "df = LoadData(path)\n",
    "df = dummyEncode(df)\n",
    "X_train, X_test, y_train, y_test = SplitData(df)\n",
    "precision = XGboost(X_train, X_test, y_train, y_test)    \n",
    "print('score is:',precision)"
   ]
  },
  {
   "cell_type": "code",
   "execution_count": 103,
   "metadata": {
    "scrolled": true
   },
   "outputs": [
    {
     "name": "stdout",
     "output_type": "stream",
     "text": [
      "0    22418\n",
      "1        3\n",
      "Name: Claim, dtype: int64\n"
     ]
    }
   ],
   "source": [
    "# with Learning Rate 0.1\n",
    "path = 'data/test.csv'\n",
    "df = LoadData(path)\n",
    "# Storing the Id column\n",
    "Id = df[['ID']]\n",
    "df.drop('ID',1,inplace=True)\n",
    "test = dummyEncode(df)\n",
    "# test\n",
    "#testing function\n",
    "def prediction(test):\n",
    "    model = pickle.load(open(\"model.pkl\", \"rb\"))\n",
    "    y_pred = model.predict(test)\n",
    "    return y_pred\n",
    "y_pred = pd.DataFrame(prediction(test),columns=['Claim']) \n",
    "print(y_pred['Claim'].value_counts())\n",
    "submission = pd.concat([Id,y_pred['Claim']],1)\n",
    "submission.to_csv('submission.csv',index=False)"
   ]
  },
  {
   "cell_type": "code",
   "execution_count": 85,
   "metadata": {
    "scrolled": true
   },
   "outputs": [
    {
     "name": "stdout",
     "output_type": "stream",
     "text": [
      "0    21573\n",
      "1      848\n",
      "Name: Claim, dtype: int64\n"
     ]
    }
   ],
   "source": [
    "# with Learning Rate 0.8\n",
    "path = 'data/test.csv'\n",
    "df = LoadData(path)\n",
    "# Storing the Id column\n",
    "Id = df[['ID']]\n",
    "df.drop('ID',1,inplace=True)\n",
    "test = dummyEncode(df)\n",
    "# test\n",
    "#testing function\n",
    "def prediction(test):\n",
    "    model = pickle.load(open(\"model.pkl\", \"rb\"))\n",
    "    y_pred = model.predict(test)\n",
    "    return y_pred\n",
    "y_pred = pd.DataFrame(prediction(test),columns=['Claim']) \n",
    "print(y_pred['Claim'].value_counts())\n",
    "submission = pd.concat([Id,y_pred['Claim']],1)\n",
    "submission.to_csv('submission.csv',index=False)"
   ]
  },
  {
   "cell_type": "code",
   "execution_count": null,
   "metadata": {},
   "outputs": [],
   "source": []
  },
  {
   "cell_type": "code",
   "execution_count": null,
   "metadata": {},
   "outputs": [],
   "source": []
  }
 ],
 "metadata": {
  "kernelspec": {
   "display_name": "Python 3",
   "language": "python",
   "name": "python3"
  },
  "language_info": {
   "codemirror_mode": {
    "name": "ipython",
    "version": 3
   },
   "file_extension": ".py",
   "mimetype": "text/x-python",
   "name": "python",
   "nbconvert_exporter": "python",
   "pygments_lexer": "ipython3",
   "version": "3.7.6"
  }
 },
 "nbformat": 4,
 "nbformat_minor": 4
}
