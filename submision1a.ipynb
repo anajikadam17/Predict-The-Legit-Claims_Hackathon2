{
 "cells": [
  {
   "cell_type": "code",
   "execution_count": 37,
   "metadata": {
    "scrolled": false
   },
   "outputs": [
    {
     "name": "stdout",
     "output_type": "stream",
     "text": [
      "score is: 0.6474777448071216\n",
      "0    19974\n",
      "1     2447\n",
      "Name: Claim, dtype: int64\n"
     ]
    }
   ],
   "source": [
    "#importing reqired libraries\n",
    "import numpy as np\n",
    "import pandas as pd\n",
    "import matplotlib.pyplot as plt\n",
    "import seaborn as sns\n",
    "from sklearn.preprocessing import LabelEncoder\n",
    "from sklearn.ensemble import RandomForestClassifier\n",
    "from sklearn.metrics import precision_score\n",
    "from sklearn.model_selection import train_test_split\n",
    "from imblearn.over_sampling import SMOTE\n",
    "\n",
    "data=pd.read_csv('./data/train.csv')\n",
    "\n",
    "#removing ID column\n",
    "data.drop(columns=['ID'],axis=1,inplace=True)\n",
    "data.head()\n",
    "\n",
    "#checking for class imbalance \n",
    "def class_imbalance(target):\n",
    "    class_values = (target.value_counts()/target.value_counts().sum())*100\n",
    "    return class_values\n",
    "class_imbalance(data['Claim'])\n",
    "\n",
    "# def square(data):\n",
    "#     data=data**2\n",
    "#     return data\n",
    "\n",
    "#label encoding the data\n",
    "le = LabelEncoder()\n",
    "# Function that auto encodes any dataframe column of type category or object.\n",
    "def dummyEncode(dataset):\n",
    "        \n",
    "        columnsToEncode = list(dataset.select_dtypes(include=['category','object']))\n",
    "        le = LabelEncoder()\n",
    "        for feature in columnsToEncode:\n",
    "            try:\n",
    "                dataset[feature] = le.fit_transform(dataset[feature])\n",
    "            except:\n",
    "                print('Error encoding '+feature)\n",
    "        return dataset\n",
    "data = dummyEncode(data)\n",
    "\n",
    "#predictors for training\n",
    "X = data.iloc[:,:-1]\n",
    "\n",
    "# Target\n",
    "y = data.iloc[:,-1]\n",
    "\n",
    "\n",
    "def random_forrest(dataframe,target):\n",
    "    \n",
    "    x_train,x_val,y_train,y_val = train_test_split(dataframe,target, test_size=0.3, random_state=42)\n",
    "    \n",
    "    # Applying Smote on train data for dealing with class imbalance\n",
    "    smote = SMOTE(kind='regular')\n",
    "    X_sm, y_sm =  smote.fit_sample(x_train, y_train)\n",
    "    \n",
    "    global rfc\n",
    "    rfc = RandomForestClassifier(max_features='sqrt', max_depth=8, criterion='gini',random_state=42)\n",
    "    rfc.fit(x_train, y_train)\n",
    "    y_pred=rfc.predict(x_val)\n",
    "    precision=precision_score(y_val,y_pred)\n",
    "    return precision\n",
    "\n",
    "#trainning\n",
    "precision = random_forrest(X,y)    \n",
    "print('score is:',precision)\n",
    "\n",
    "#testing function\n",
    "def prediction(test):\n",
    "    y_pred = rfc.predict(test)\n",
    "    \n",
    "    return y_pred\n",
    "\n",
    "test=pd.read_csv('./data/test.csv')\n",
    "\n",
    "# Storing the Id column\n",
    "Id = test[['ID']]\n",
    "\n",
    "# Preprocessed Test File\n",
    "test.drop('ID',1,inplace=True)\n",
    "test.head()\n",
    "#label encoder\n",
    "test = dummyEncode(test)\n",
    "test.head()\n",
    "#predicting on test file\n",
    "y_pred = pd.DataFrame(prediction(test),columns=['Claim']) \n",
    "print(y_pred['Claim'].value_counts())\n",
    "# submission = pd.concat([Id,y_pred['Claim']],1)\n",
    "# submission.to_csv('submission.csv',index=False)"
   ]
  },
  {
   "cell_type": "code",
   "execution_count": 41,
   "metadata": {},
   "outputs": [
    {
     "name": "stdout",
     "output_type": "stream",
     "text": [
      "score is: 0.8463881636205396\n",
      "0    19178\n",
      "1     3243\n",
      "Name: Claim, dtype: int64\n"
     ]
    }
   ],
   "source": [
    "#importing reqired libraries\n",
    "import numpy as np\n",
    "import pandas as pd\n",
    "import matplotlib.pyplot as plt\n",
    "import seaborn as sns\n",
    "from sklearn.preprocessing import LabelEncoder\n",
    "from sklearn.ensemble import RandomForestClassifier\n",
    "from sklearn.metrics import precision_score\n",
    "from sklearn.model_selection import train_test_split\n",
    "from imblearn.over_sampling import SMOTE\n",
    "\n",
    "data=pd.read_csv('./data/train.csv')\n",
    "\n",
    "#removing ID column\n",
    "data.drop(columns=['ID'],axis=1,inplace=True)\n",
    "data.head()\n",
    "\n",
    "#checking for class imbalance \n",
    "def class_imbalance(target):\n",
    "    class_values = (target.value_counts()/target.value_counts().sum())*100\n",
    "    return class_values\n",
    "class_imbalance(data['Claim'])\n",
    "\n",
    "\n",
    "#label encoding the data\n",
    "le = LabelEncoder()\n",
    "# Function that auto encodes any dataframe column of type category or object.\n",
    "def dummyEncode(dataset):\n",
    "        \n",
    "        columnsToEncode = list(dataset.select_dtypes(include=['category','object']))\n",
    "        le = LabelEncoder()\n",
    "        for feature in columnsToEncode:\n",
    "            try:\n",
    "                dataset[feature] = le.fit_transform(dataset[feature])\n",
    "            except:\n",
    "                print('Error encoding '+feature)\n",
    "        return dataset\n",
    "data = dummyEncode(data)\n",
    "\n",
    "#predictors for training\n",
    "X = data.iloc[:,:-1]\n",
    "\n",
    "# Target\n",
    "y = data.iloc[:,-1]\n",
    "\n",
    "\n",
    "def random_forrest(dataframe,target):\n",
    "    \n",
    "    x_train,x_val,y_train,y_val = train_test_split(dataframe,target, test_size=0.3, random_state=42)\n",
    "    \n",
    "    # Applying Smote on train data for dealing with class imbalance\n",
    "    smote = SMOTE(kind='regular')\n",
    "    X_sm, y_sm =  smote.fit_sample(x_train, y_train)\n",
    "    \n",
    "    global rfc\n",
    "    rfc = RandomForestClassifier()\n",
    "    rfc.fit(x_train, y_train)\n",
    "    y_pred=rfc.predict(x_val)\n",
    "    precision=precision_score(y_val,y_pred)\n",
    "    return precision\n",
    "\n",
    "#trainning\n",
    "precision = random_forrest(X,y)    \n",
    "print('score is:',precision)\n",
    "\n",
    "#testing function\n",
    "def prediction(test):\n",
    "    y_pred = rfc.predict(test)\n",
    "    \n",
    "    return y_pred\n",
    "\n",
    "test=pd.read_csv('./data/test.csv')\n",
    "\n",
    "# Storing the Id column\n",
    "Id = test[['ID']]\n",
    "\n",
    "# Preprocessed Test File\n",
    "test.drop('ID',1,inplace=True)\n",
    "test.head()\n",
    "#label encoder\n",
    "test = dummyEncode(test)\n",
    "test.head()\n",
    "#predicting on test file\n",
    "y_pred = pd.DataFrame(prediction(test),columns=['Claim']) \n",
    "print(y_pred['Claim'].value_counts())\n",
    "# submission = pd.concat([Id,y_pred['Claim']],1)\n",
    "# submission.to_csv('submission.csv',index=False)\n"
   ]
  },
  {
   "cell_type": "code",
   "execution_count": 48,
   "metadata": {},
   "outputs": [
    {
     "name": "stdout",
     "output_type": "stream",
     "text": [
      "score is: 0.8550540368722187\n",
      "0    19066\n",
      "1     3355\n",
      "Name: Claim, dtype: int64\n"
     ]
    }
   ],
   "source": [
    "#importing reqired libraries\n",
    "import numpy as np\n",
    "import pandas as pd\n",
    "import matplotlib.pyplot as plt\n",
    "import seaborn as sns\n",
    "from sklearn.preprocessing import LabelEncoder\n",
    "from sklearn.ensemble import RandomForestClassifier\n",
    "from sklearn.metrics import precision_score\n",
    "from sklearn.model_selection import train_test_split\n",
    "from imblearn.over_sampling import SMOTE\n",
    "\n",
    "data=pd.read_csv('./data/train.csv')\n",
    "\n",
    "#removing ID column\n",
    "data.drop(columns=['ID'],axis=1,inplace=True)\n",
    "data.head()\n",
    "\n",
    "#checking for class imbalance \n",
    "def class_imbalance(target):\n",
    "    class_values = (target.value_counts()/target.value_counts().sum())*100\n",
    "    return class_values\n",
    "class_imbalance(data['Claim'])\n",
    "\n",
    "\n",
    "#label encoding the data\n",
    "le = LabelEncoder()\n",
    "# Function that auto encodes any dataframe column of type category or object.\n",
    "def dummyEncode(dataset):\n",
    "        \n",
    "        columnsToEncode = list(dataset.select_dtypes(include=['category','object']))\n",
    "        le = LabelEncoder()\n",
    "        for feature in columnsToEncode:\n",
    "            try:\n",
    "                dataset[feature] = le.fit_transform(dataset[feature])\n",
    "            except:\n",
    "                print('Error encoding '+feature)\n",
    "        return dataset\n",
    "data = dummyEncode(data)\n",
    "\n",
    "#predictors for training\n",
    "X = data.iloc[:,:-1]\n",
    "# col = ['Agency Type', 'Destination', 'Agency', 'Commision (in value)', 'Age', 'Duration', 'Net Sales']\n",
    "# X = X[col]\n",
    "# Target\n",
    "y = data.iloc[:,-1]\n",
    "\n",
    "\n",
    "def random_forrest(dataframe,target):\n",
    "    \n",
    "    x_train,x_val,y_train,y_val = train_test_split(dataframe,target, test_size=0.2, random_state=42)\n",
    "    \n",
    "    # Applying Smote on train data for dealing with class imbalance\n",
    "    smote = SMOTE(kind='regular')\n",
    "    X_sm, y_sm =  smote.fit_sample(x_train, y_train)\n",
    "    \n",
    "    global rfc\n",
    "    rfc = RandomForestClassifier()\n",
    "    rfc.fit(x_train, y_train)\n",
    "    y_pred=rfc.predict(x_val)\n",
    "    precision=precision_score(y_val,y_pred)\n",
    "    return precision\n",
    "\n",
    "#trainning\n",
    "precision = random_forrest(X,y)    \n",
    "print('score is:',precision)\n",
    "\n",
    "#testing function\n",
    "def prediction(test):\n",
    "    y_pred = rfc.predict(test)\n",
    "    \n",
    "    return y_pred\n",
    "\n",
    "test=pd.read_csv('./data/test.csv')\n",
    "\n",
    "# Storing the Id column\n",
    "Id = test[['ID']]\n",
    "\n",
    "# Preprocessed Test File\n",
    "test.drop('ID',1,inplace=True)\n",
    "# test = test[col]\n",
    "test.head()\n",
    "#label encoder\n",
    "test = dummyEncode(test)\n",
    "test.head()\n",
    "#predicting on test file\n",
    "y_pred = pd.DataFrame(prediction(test),columns=['Claim']) \n",
    "print(y_pred['Claim'].value_counts())\n",
    "# submission = pd.concat([Id,y_pred['Claim']],1)\n",
    "# submission.to_csv('submission.csv',index=False)\n"
   ]
  },
  {
   "cell_type": "code",
   "execution_count": 53,
   "metadata": {},
   "outputs": [
    {
     "name": "stdout",
     "output_type": "stream",
     "text": [
      "score is: 0.8433734939759037\n",
      "0    19164\n",
      "1     3257\n",
      "Name: Claim, dtype: int64\n"
     ]
    }
   ],
   "source": [
    "#importing reqired libraries\n",
    "import numpy as np\n",
    "import pandas as pd\n",
    "import matplotlib.pyplot as plt\n",
    "import seaborn as sns\n",
    "from sklearn.preprocessing import LabelEncoder\n",
    "from sklearn.ensemble import RandomForestClassifier\n",
    "from sklearn.metrics import precision_score\n",
    "from sklearn.model_selection import train_test_split\n",
    "from imblearn.over_sampling import SMOTE\n",
    "\n",
    "data=pd.read_csv('./data/train.csv')\n",
    "\n",
    "#removing ID column\n",
    "data.drop(columns=['ID'],axis=1,inplace=True)\n",
    "data.head()\n",
    "\n",
    "#checking for class imbalance \n",
    "def class_imbalance(target):\n",
    "    class_values = (target.value_counts()/target.value_counts().sum())*100\n",
    "    return class_values\n",
    "class_imbalance(data['Claim'])\n",
    "\n",
    "\n",
    "#label encoding the data\n",
    "le = LabelEncoder()\n",
    "# Function that auto encodes any dataframe column of type category or object.\n",
    "def dummyEncode(dataset):\n",
    "        \n",
    "        columnsToEncode = list(dataset.select_dtypes(include=['category','object']))\n",
    "        le = LabelEncoder()\n",
    "        for feature in columnsToEncode:\n",
    "            try:\n",
    "                dataset[feature] = le.fit_transform(dataset[feature])\n",
    "            except:\n",
    "                print('Error encoding '+feature)\n",
    "        return dataset\n",
    "data = dummyEncode(data)\n",
    "\n",
    "#predictors for training\n",
    "X = data.iloc[:,:-1]\n",
    "# col = ['Agency Type', 'Destination', 'Agency', 'Commision (in value)', 'Age', 'Duration', 'Net Sales']\n",
    "# X = X[col]\n",
    "# Target\n",
    "y = data.iloc[:,-1]\n",
    "\n",
    "\n",
    "def random_forrest(dataframe,target):\n",
    "    \n",
    "    x_train,x_val,y_train,y_val = train_test_split(dataframe,target)\n",
    "    \n",
    "    # Applying Smote on train data for dealing with class imbalance\n",
    "    smote = SMOTE(kind='regular')\n",
    "    X_sm, y_sm =  smote.fit_sample(x_train, y_train)\n",
    "    \n",
    "    global rfc\n",
    "    rfc = RandomForestClassifier()\n",
    "    rfc.fit(x_train, y_train)\n",
    "    y_pred=rfc.predict(x_val)\n",
    "    precision=precision_score(y_val,y_pred)\n",
    "    return precision\n",
    "\n",
    "#trainning\n",
    "precision = random_forrest(X,y)    \n",
    "print('score is:',precision)\n",
    "\n",
    "#testing function\n",
    "def prediction(test):\n",
    "    y_pred = rfc.predict(test)\n",
    "    \n",
    "    return y_pred\n",
    "\n",
    "test=pd.read_csv('./data/test.csv')\n",
    "\n",
    "# Storing the Id column\n",
    "Id = test[['ID']]\n",
    "\n",
    "# Preprocessed Test File\n",
    "test.drop('ID',1,inplace=True)\n",
    "# test = test[col]\n",
    "test.head()\n",
    "#label encoder\n",
    "test = dummyEncode(test)\n",
    "test.head()\n",
    "#predicting on test file\n",
    "y_pred = pd.DataFrame(prediction(test),columns=['Claim']) \n",
    "print(y_pred['Claim'].value_counts())\n",
    "# submission = pd.concat([Id,y_pred['Claim']],1)\n",
    "# submission.to_csv('submission.csv',index=False)\n"
   ]
  },
  {
   "cell_type": "code",
   "execution_count": 10,
   "metadata": {},
   "outputs": [
    {
     "data": {
      "text/html": [
       "<div>\n",
       "<style scoped>\n",
       "    .dataframe tbody tr th:only-of-type {\n",
       "        vertical-align: middle;\n",
       "    }\n",
       "\n",
       "    .dataframe tbody tr th {\n",
       "        vertical-align: top;\n",
       "    }\n",
       "\n",
       "    .dataframe thead th {\n",
       "        text-align: right;\n",
       "    }\n",
       "</style>\n",
       "<table border=\"1\" class=\"dataframe\">\n",
       "  <thead>\n",
       "    <tr style=\"text-align: right;\">\n",
       "      <th></th>\n",
       "      <th>Claim</th>\n",
       "    </tr>\n",
       "  </thead>\n",
       "  <tbody>\n",
       "    <tr>\n",
       "      <th>0</th>\n",
       "      <td>0</td>\n",
       "    </tr>\n",
       "    <tr>\n",
       "      <th>1</th>\n",
       "      <td>0</td>\n",
       "    </tr>\n",
       "    <tr>\n",
       "      <th>2</th>\n",
       "      <td>0</td>\n",
       "    </tr>\n",
       "    <tr>\n",
       "      <th>3</th>\n",
       "      <td>0</td>\n",
       "    </tr>\n",
       "    <tr>\n",
       "      <th>4</th>\n",
       "      <td>0</td>\n",
       "    </tr>\n",
       "  </tbody>\n",
       "</table>\n",
       "</div>"
      ],
      "text/plain": [
       "   Claim\n",
       "0      0\n",
       "1      0\n",
       "2      0\n",
       "3      0\n",
       "4      0"
      ]
     },
     "execution_count": 10,
     "metadata": {},
     "output_type": "execute_result"
    }
   ],
   "source": [
    "y_pred.head()"
   ]
  },
  {
   "cell_type": "code",
   "execution_count": 9,
   "metadata": {
    "scrolled": true
   },
   "outputs": [
    {
     "data": {
      "text/html": [
       "<div>\n",
       "<style scoped>\n",
       "    .dataframe tbody tr th:only-of-type {\n",
       "        vertical-align: middle;\n",
       "    }\n",
       "\n",
       "    .dataframe tbody tr th {\n",
       "        vertical-align: top;\n",
       "    }\n",
       "\n",
       "    .dataframe thead th {\n",
       "        text-align: right;\n",
       "    }\n",
       "</style>\n",
       "<table border=\"1\" class=\"dataframe\">\n",
       "  <thead>\n",
       "    <tr style=\"text-align: right;\">\n",
       "      <th></th>\n",
       "      <th>Agency</th>\n",
       "      <th>Agency Type</th>\n",
       "      <th>Distribution Channel</th>\n",
       "      <th>Product Name</th>\n",
       "      <th>Duration</th>\n",
       "      <th>Destination</th>\n",
       "      <th>Net Sales</th>\n",
       "      <th>Commision (in value)</th>\n",
       "      <th>Age</th>\n",
       "    </tr>\n",
       "  </thead>\n",
       "  <tbody>\n",
       "    <tr>\n",
       "      <th>0</th>\n",
       "      <td>7</td>\n",
       "      <td>1</td>\n",
       "      <td>1</td>\n",
       "      <td>10</td>\n",
       "      <td>192</td>\n",
       "      <td>33</td>\n",
       "      <td>18.0</td>\n",
       "      <td>0.00</td>\n",
       "      <td>36</td>\n",
       "    </tr>\n",
       "    <tr>\n",
       "      <th>1</th>\n",
       "      <td>7</td>\n",
       "      <td>1</td>\n",
       "      <td>1</td>\n",
       "      <td>0</td>\n",
       "      <td>2</td>\n",
       "      <td>75</td>\n",
       "      <td>20.0</td>\n",
       "      <td>0.00</td>\n",
       "      <td>36</td>\n",
       "    </tr>\n",
       "    <tr>\n",
       "      <th>2</th>\n",
       "      <td>2</td>\n",
       "      <td>0</td>\n",
       "      <td>1</td>\n",
       "      <td>9</td>\n",
       "      <td>13</td>\n",
       "      <td>75</td>\n",
       "      <td>13.5</td>\n",
       "      <td>3.38</td>\n",
       "      <td>24</td>\n",
       "    </tr>\n",
       "    <tr>\n",
       "      <th>3</th>\n",
       "      <td>7</td>\n",
       "      <td>1</td>\n",
       "      <td>1</td>\n",
       "      <td>1</td>\n",
       "      <td>133</td>\n",
       "      <td>82</td>\n",
       "      <td>41.0</td>\n",
       "      <td>0.00</td>\n",
       "      <td>36</td>\n",
       "    </tr>\n",
       "    <tr>\n",
       "      <th>4</th>\n",
       "      <td>2</td>\n",
       "      <td>0</td>\n",
       "      <td>1</td>\n",
       "      <td>17</td>\n",
       "      <td>2</td>\n",
       "      <td>75</td>\n",
       "      <td>30.0</td>\n",
       "      <td>7.50</td>\n",
       "      <td>32</td>\n",
       "    </tr>\n",
       "  </tbody>\n",
       "</table>\n",
       "</div>"
      ],
      "text/plain": [
       "   Agency  Agency Type  Distribution Channel  Product Name  Duration  \\\n",
       "0       7            1                     1            10       192   \n",
       "1       7            1                     1             0         2   \n",
       "2       2            0                     1             9        13   \n",
       "3       7            1                     1             1       133   \n",
       "4       2            0                     1            17         2   \n",
       "\n",
       "   Destination  Net Sales  Commision (in value)  Age  \n",
       "0           33       18.0                  0.00   36  \n",
       "1           75       20.0                  0.00   36  \n",
       "2           75       13.5                  3.38   24  \n",
       "3           82       41.0                  0.00   36  \n",
       "4           75       30.0                  7.50   32  "
      ]
     },
     "execution_count": 9,
     "metadata": {},
     "output_type": "execute_result"
    }
   ],
   "source": [
    "test.head()"
   ]
  },
  {
   "cell_type": "code",
   "execution_count": 21,
   "metadata": {
    "scrolled": false
   },
   "outputs": [
    {
     "data": {
      "text/plain": [
       "1.0"
      ]
     },
     "execution_count": 21,
     "metadata": {},
     "output_type": "execute_result"
    }
   ],
   "source": [
    "precision_score(test['Agency Type'],test['Agency Type'])"
   ]
  },
  {
   "cell_type": "code",
   "execution_count": 20,
   "metadata": {},
   "outputs": [
    {
     "data": {
      "text/plain": [
       "0.6615593834995467"
      ]
     },
     "execution_count": 20,
     "metadata": {},
     "output_type": "execute_result"
    }
   ],
   "source": [
    "precision_score(test['Agency Type'],test['Distribution Channel'])"
   ]
  },
  {
   "cell_type": "code",
   "execution_count": 18,
   "metadata": {},
   "outputs": [
    {
     "data": {
      "text/plain": [
       "1    14950\n",
       "0     7471\n",
       "Name: Agency Type, dtype: int64"
      ]
     },
     "execution_count": 18,
     "metadata": {},
     "output_type": "execute_result"
    }
   ],
   "source": [
    "test['Agency Type'].value_counts()"
   ]
  },
  {
   "cell_type": "code",
   "execution_count": 14,
   "metadata": {
    "scrolled": true
   },
   "outputs": [
    {
     "name": "stdout",
     "output_type": "stream",
     "text": [
      "[[ 7471     0]\n",
      " [    0 14950]]\n"
     ]
    }
   ],
   "source": [
    "from sklearn.metrics import roc_auc_score ,mean_squared_error,accuracy_score,classification_report,roc_curve,confusion_matrix\n",
    "print(confusion_matrix(test['Agency Type'],test['Agency Type']))\n",
    "print(classification_report(test['Agency Type'],test['Agency Type']))"
   ]
  },
  {
   "cell_type": "code",
   "execution_count": 22,
   "metadata": {},
   "outputs": [
    {
     "name": "stdout",
     "output_type": "stream",
     "text": [
      "             precision    recall  f1-score   support\n",
      "\n",
      "          0       1.00      1.00      1.00      7471\n",
      "          1       1.00      1.00      1.00     14950\n",
      "\n",
      "avg / total       1.00      1.00      1.00     22421\n",
      "\n"
     ]
    }
   ],
   "source": [
    "print(classification_report(test['Agency Type'],test['Agency Type']))"
   ]
  },
  {
   "cell_type": "code",
   "execution_count": 23,
   "metadata": {},
   "outputs": [
    {
     "name": "stdout",
     "output_type": "stream",
     "text": [
      "[[    5  7466]\n",
      " [  356 14594]]\n"
     ]
    }
   ],
   "source": [
    "print(confusion_matrix(test['Agency Type'],test['Distribution Channel']))"
   ]
  },
  {
   "cell_type": "code",
   "execution_count": 24,
   "metadata": {},
   "outputs": [
    {
     "name": "stdout",
     "output_type": "stream",
     "text": [
      "             precision    recall  f1-score   support\n",
      "\n",
      "          0       0.01      0.00      0.00      7471\n",
      "          1       0.66      0.98      0.79     14950\n",
      "\n",
      "avg / total       0.45      0.65      0.53     22421\n",
      "\n"
     ]
    }
   ],
   "source": [
    "print(classification_report(test['Agency Type'], test['Distribution Channel']))"
   ]
  },
  {
   "cell_type": "code",
   "execution_count": null,
   "metadata": {},
   "outputs": [],
   "source": []
  },
  {
   "cell_type": "code",
   "execution_count": null,
   "metadata": {},
   "outputs": [],
   "source": []
  },
  {
   "cell_type": "code",
   "execution_count": null,
   "metadata": {},
   "outputs": [],
   "source": []
  },
  {
   "cell_type": "code",
   "execution_count": 6,
   "metadata": {},
   "outputs": [
    {
     "data": {
      "text/plain": [
       "(22421, 10)"
      ]
     },
     "execution_count": 6,
     "metadata": {},
     "output_type": "execute_result"
    }
   ],
   "source": [
    "# test=pd.read_csv('./data/test.csv')\n",
    "# test.shape"
   ]
  },
  {
   "cell_type": "code",
   "execution_count": null,
   "metadata": {},
   "outputs": [],
   "source": []
  },
  {
   "cell_type": "code",
   "execution_count": null,
   "metadata": {},
   "outputs": [],
   "source": []
  }
 ],
 "metadata": {
  "kernelspec": {
   "display_name": "Python 3",
   "language": "python",
   "name": "python3"
  },
  "language_info": {
   "codemirror_mode": {
    "name": "ipython",
    "version": 3
   },
   "file_extension": ".py",
   "mimetype": "text/x-python",
   "name": "python",
   "nbconvert_exporter": "python",
   "pygments_lexer": "ipython3",
   "version": "3.7.6"
  }
 },
 "nbformat": 4,
 "nbformat_minor": 2
}
