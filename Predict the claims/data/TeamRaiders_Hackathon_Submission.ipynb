{
 "cells": [
  {
   "cell_type": "code",
   "execution_count": 2,
   "metadata": {
    "scrolled": true
   },
   "outputs": [
    {
     "name": "stdout",
     "output_type": "stream",
     "text": [
      "Confusion Matrix:\n",
      "[[12786   295]\n",
      " [  668  1944]]\n",
      "Classification Report:\n",
      "             precision    recall  f1-score   support\n",
      "\n",
      "          0       0.95      0.98      0.96     13081\n",
      "          1       0.87      0.74      0.80      2612\n",
      "\n",
      "avg / total       0.94      0.94      0.94     15693\n",
      "\n",
      "ROC_AUC_SCORE is 0.860852740721524\n"
     ]
    },
    {
     "data": {
      "image/png": "[encoded data removed]",
      "text/plain": [
       "<Figure size 432x288 with 1 Axes>"
      ]
     },
     "metadata": {
      "needs_background": "light"
     },
     "output_type": "display_data"
    },
    {
     "name": "stdout",
     "output_type": "stream",
     "text": [
      "score is: 0.8682447521214828\n",
      "0    19256\n",
      "1     3165\n",
      "Name: Claim, dtype: int64\n"
     ]
    }
   ],
   "source": [
    "#importing reqired libraries\n",
    "import numpy as np\n",
    "import pandas as pd\n",
    "import matplotlib.pyplot as plt\n",
    "import seaborn as sns\n",
    "from sklearn.preprocessing import LabelEncoder\n",
    "from sklearn.ensemble import RandomForestClassifier\n",
    "from sklearn.metrics import precision_score\n",
    "from sklearn.model_selection import train_test_split\n",
    "from imblearn.over_sampling import SMOTE\n",
    "from xgboost import XGBClassifier\n",
    "from sklearn.tree import DecisionTreeClassifier\n",
    "from sklearn.metrics import roc_auc_score ,mean_squared_error,accuracy_score,classification_report,confusion_matrix,roc_curve\n",
    "import warnings\n",
    "warnings.filterwarnings('ignore')\n",
    "\n",
    "data=pd.read_csv('train.csv')\n",
    "\n",
    "#removing ID column\n",
    "data.drop(columns=['ID'],axis=1,inplace=True)\n",
    "data.head()\n",
    "\n",
    "#checking for class imbalance \n",
    "def class_imbalance(target):\n",
    "    class_values = (target.value_counts()/target.value_counts().sum())*100\n",
    "    return class_values\n",
    "class_imbalance(data['Claim'])\n",
    "\n",
    "\n",
    "#label encoding the data\n",
    "le = LabelEncoder()\n",
    "# Function that auto encodes any dataframe column of type category or object.\n",
    "def dummyEncode(dataset):\n",
    "        \n",
    "        columnsToEncode = list(dataset.select_dtypes(include=['category','object']))\n",
    "        le = LabelEncoder()\n",
    "        for feature in columnsToEncode:\n",
    "            try:\n",
    "                dataset[feature] = le.fit_transform(dataset[feature])\n",
    "            except:\n",
    "                print('Error encoding '+feature)\n",
    "        return dataset\n",
    "data = dummyEncode(data)\n",
    "\n",
    "#predictors for training\n",
    "X = data.iloc[:,:-1]\n",
    "\n",
    "# Target\n",
    "y = data.iloc[:,-1]\n",
    "\n",
    "\n",
    "def XGboost(dataframe,target):\n",
    "    \n",
    "    x_train,x_val,y_train,y_val = train_test_split(dataframe,target, test_size=0.3, random_state=42)\n",
    "\n",
    "    global xgbc\n",
    "    rfc_clf=RandomForestClassifier()\n",
    "    xgbc = XGBClassifier(base_estimator=rfc_clf,random_state=42,learning_rate=0.7,gamma=0.7,max_depth=8,min_child_weight=5,scale_pos_weight=0.7)\n",
    "    xgbc.fit(x_train, y_train)\n",
    "    y_pred=xgbc.predict(x_val)\n",
    "    precision=precision_score(y_val,y_pred)\n",
    "    print('Confusion Matrix:')\n",
    "    print(confusion_matrix(y_val,y_pred))  \n",
    "    print('Classification Report:')\n",
    "    print(classification_report(y_val,y_pred))\n",
    "    false_positive_rate, true_positive_rate, thresholds = roc_curve(y_val, y_pred)\n",
    "    print('ROC_AUC_SCORE is',roc_auc_score(y_val, y_pred))\n",
    "    plt.plot(false_positive_rate, true_positive_rate)\n",
    "    plt.xlabel('FPR')\n",
    "    plt.ylabel('TPR')\n",
    "    plt.title('ROC curve')\n",
    "    plt.show()\n",
    "    return precision\n",
    "\n",
    "#trainning\n",
    "precision = XGboost(X,y)    \n",
    "print('score is:',precision)\n",
    "\n",
    "#testing function\n",
    "def prediction(test):\n",
    "    y_pred = xgbc.predict(test)\n",
    "    \n",
    "    return y_pred\n",
    "\n",
    "test=pd.read_csv('test.csv')\n",
    "\n",
    "# Storing the Id column\n",
    "Id = test[['ID']]\n",
    "\n",
    "# Preprocessed Test File\n",
    "test.drop('ID',1,inplace=True)\n",
    "test.head()\n",
    "#label encoder\n",
    "test = dummyEncode(test)\n",
    "test.head()\n",
    "\n",
    "#predicting on test file\n",
    "y_pred = pd.DataFrame(prediction(test),columns=['Claim']) \n",
    "print(y_pred['Claim'].value_counts())\n",
    "submission = pd.concat([Id,y_pred['Claim']],1)\n",
    "submission.to_csv('submission.csv',index=False)"
   ]
  },
  {
   "cell_type": "code",
   "execution_count": null,
   "metadata": {},
   "outputs": [],
   "source": []
  }
 ],
 "metadata": {
  "kernelspec": {
   "display_name": "Python 3",
   "language": "python",
   "name": "python3"
  },
  "language_info": {
   "codemirror_mode": {
    "name": "ipython",
    "version": 3
   },
   "file_extension": ".py",
   "mimetype": "text/x-python",
   "name": "python",
   "nbconvert_exporter": "python",
   "pygments_lexer": "ipython3",
   "version": "3.7.6"
  }
 },
 "nbformat": 4,
 "nbformat_minor": 2
}
