{
 "cells": [
  {
   "cell_type": "markdown",
   "metadata": {},
   "source": [
    "### Problem Description\n",
    "Insurance companies take risks over customers. Risk management is a very important aspect of the insurance industry. Insurers consider every quantifiable factor to develop profiles of high and low insurance risks. Insurers collect vast amounts of information about policyholders and analyze the data.\n",
    "\n",
    "As a Data scientist in an insurance company, you need to analyze the available data and predict whether to sanction the insurance or not.\n",
    "\n",
    "### Dataset Description\n",
    "A zipped file containing train, test and sample submission files are given. The training dataset consists of data corresponding to 52310 customers and the test dataset consists of 22421 customers. Following are the features of the dataset\n",
    "\n",
    "Target: Claim Status (Claim)\n",
    "\n",
    "Name of agency (Agency)\n",
    "\n",
    "Type of travel insurance agencies (Agency.Type)\n",
    "\n",
    "Distribution channel of travel insurance agencies (Distribution.Channel)\n",
    "\n",
    "Name of the travel insurance products (Product.Name)\n",
    "\n",
    "Duration of travel (Duration)\n",
    "\n",
    "Destination of travel (Destination)\n",
    "\n",
    "Amount of sales of travel insurance policies (Net.Sales)\n",
    "\n",
    "The commission received for travel insurance agency (Commission)\n",
    "\n",
    "Age of insured (Age)\n",
    "\n",
    "The identification record of every observation (ID)\n",
    "\n",
    "Evaluation Metric\n",
    "The evaluation metric for this task will be precision_score. Read up about it more here.\n",
    "\n",
    "### Submission Format\n",
    "The user has to submit a csv file with the ID and Claim label. Sample submission file has been given to you. You can refer the sample submission file."
   ]
  },
  {
   "cell_type": "code",
   "execution_count": 1,
   "metadata": {},
   "outputs": [
    {
     "name": "stderr",
     "output_type": "stream",
     "text": [
      "C:\\ProgramData\\Anaconda3\\lib\\site-packages\\sklearn\\ensemble\\weight_boosting.py:29: DeprecationWarning: numpy.core.umath_tests is an internal NumPy module and should not be imported. It will be removed in a future NumPy release.\n",
      "  from numpy.core.umath_tests import inner1d\n"
     ]
    }
   ],
   "source": [
    "import numpy as np\n",
    "import pandas as pd\n",
    "import matplotlib.pyplot as plt\n",
    "import seaborn as sns\n",
    "%matplotlib inline\n",
    "\n",
    "from sklearn.preprocessing import LabelEncoder,MinMaxScaler,StandardScaler\n",
    "from sklearn.linear_model import LogisticRegression\n",
    "from sklearn.tree import DecisionTreeClassifier\n",
    "from sklearn.ensemble import GradientBoostingClassifier ,RandomForestClassifier ,GradientBoostingClassifier\n",
    "from xgboost import XGBClassifier \n",
    "from sklearn.model_selection import GridSearchCV, RandomizedSearchCV\n",
    "from sklearn.metrics import confusion_matrix\n",
    "from sklearn.metrics import precision_score\n",
    "from sklearn.ensemble import VotingClassifier\n",
    "from sklearn.metrics import roc_auc_score ,mean_squared_error,accuracy_score,classification_report,roc_curve,confusion_matrix\n",
    "import warnings\n",
    "warnings.filterwarnings('ignore')\n",
    "from sklearn.feature_selection import RFE\n",
    "from sklearn.model_selection import train_test_split\n",
    "pd.set_option('display.max_columns',None)\n",
    "from imblearn.over_sampling import SMOTE"
   ]
  },
  {
   "cell_type": "code",
   "execution_count": 16,
   "metadata": {
    "scrolled": true
   },
   "outputs": [
    {
     "name": "stdout",
     "output_type": "stream",
     "text": [
      "Shape of the data is:  (52310, 11)\n"
     ]
    },
    {
     "data": {
      "text/html": [
       "<div>\n",
       "<style scoped>\n",
       "    .dataframe tbody tr th:only-of-type {\n",
       "        vertical-align: middle;\n",
       "    }\n",
       "\n",
       "    .dataframe tbody tr th {\n",
       "        vertical-align: top;\n",
       "    }\n",
       "\n",
       "    .dataframe thead th {\n",
       "        text-align: right;\n",
       "    }\n",
       "</style>\n",
       "<table border=\"1\" class=\"dataframe\">\n",
       "  <thead>\n",
       "    <tr style=\"text-align: right;\">\n",
       "      <th></th>\n",
       "      <th>ID</th>\n",
       "      <th>Agency</th>\n",
       "      <th>Agency Type</th>\n",
       "      <th>Distribution Channel</th>\n",
       "      <th>Product Name</th>\n",
       "      <th>Duration</th>\n",
       "      <th>Destination</th>\n",
       "      <th>Net Sales</th>\n",
       "      <th>Commision (in value)</th>\n",
       "      <th>Age</th>\n",
       "      <th>Claim</th>\n",
       "    </tr>\n",
       "  </thead>\n",
       "  <tbody>\n",
       "    <tr>\n",
       "      <th>0</th>\n",
       "      <td>2010</td>\n",
       "      <td>EPX</td>\n",
       "      <td>Travel Agency</td>\n",
       "      <td>Online</td>\n",
       "      <td>Cancellation Plan</td>\n",
       "      <td>61</td>\n",
       "      <td>PHILIPPINES</td>\n",
       "      <td>12.0</td>\n",
       "      <td>0.00</td>\n",
       "      <td>41</td>\n",
       "      <td>0</td>\n",
       "    </tr>\n",
       "    <tr>\n",
       "      <th>1</th>\n",
       "      <td>4245</td>\n",
       "      <td>EPX</td>\n",
       "      <td>Travel Agency</td>\n",
       "      <td>Online</td>\n",
       "      <td>Cancellation Plan</td>\n",
       "      <td>4</td>\n",
       "      <td>MALAYSIA</td>\n",
       "      <td>17.0</td>\n",
       "      <td>0.00</td>\n",
       "      <td>35</td>\n",
       "      <td>0</td>\n",
       "    </tr>\n",
       "    <tr>\n",
       "      <th>2</th>\n",
       "      <td>9251</td>\n",
       "      <td>CWT</td>\n",
       "      <td>Travel Agency</td>\n",
       "      <td>Online</td>\n",
       "      <td>Rental Vehicle Excess Insurance</td>\n",
       "      <td>26</td>\n",
       "      <td>THAILAND</td>\n",
       "      <td>19.8</td>\n",
       "      <td>11.88</td>\n",
       "      <td>47</td>\n",
       "      <td>0</td>\n",
       "    </tr>\n",
       "    <tr>\n",
       "      <th>3</th>\n",
       "      <td>4754</td>\n",
       "      <td>EPX</td>\n",
       "      <td>Travel Agency</td>\n",
       "      <td>Online</td>\n",
       "      <td>2 way Comprehensive Plan</td>\n",
       "      <td>15</td>\n",
       "      <td>HONG KONG</td>\n",
       "      <td>27.0</td>\n",
       "      <td>0.00</td>\n",
       "      <td>48</td>\n",
       "      <td>0</td>\n",
       "    </tr>\n",
       "    <tr>\n",
       "      <th>4</th>\n",
       "      <td>8840</td>\n",
       "      <td>EPX</td>\n",
       "      <td>Travel Agency</td>\n",
       "      <td>Online</td>\n",
       "      <td>2 way Comprehensive Plan</td>\n",
       "      <td>15</td>\n",
       "      <td>MALAYSIA</td>\n",
       "      <td>37.0</td>\n",
       "      <td>0.00</td>\n",
       "      <td>36</td>\n",
       "      <td>0</td>\n",
       "    </tr>\n",
       "  </tbody>\n",
       "</table>\n",
       "</div>"
      ],
      "text/plain": [
       "     ID Agency    Agency Type Distribution Channel  \\\n",
       "0  2010    EPX  Travel Agency               Online   \n",
       "1  4245    EPX  Travel Agency               Online   \n",
       "2  9251    CWT  Travel Agency               Online   \n",
       "3  4754    EPX  Travel Agency               Online   \n",
       "4  8840    EPX  Travel Agency               Online   \n",
       "\n",
       "                      Product Name  Duration  Destination  Net Sales  \\\n",
       "0                Cancellation Plan        61  PHILIPPINES       12.0   \n",
       "1                Cancellation Plan         4     MALAYSIA       17.0   \n",
       "2  Rental Vehicle Excess Insurance        26     THAILAND       19.8   \n",
       "3         2 way Comprehensive Plan        15    HONG KONG       27.0   \n",
       "4         2 way Comprehensive Plan        15     MALAYSIA       37.0   \n",
       "\n",
       "   Commision (in value)  Age  Claim  \n",
       "0                  0.00   41      0  \n",
       "1                  0.00   35      0  \n",
       "2                 11.88   47      0  \n",
       "3                  0.00   48      0  \n",
       "4                  0.00   36      0  "
      ]
     },
     "execution_count": 16,
     "metadata": {},
     "output_type": "execute_result"
    }
   ],
   "source": [
    "path = './data/train.csv'\n",
    "\n",
    "# Load the dataframe\n",
    "data = pd.read_csv(path,delimiter=',')\n",
    "\n",
    "# Remove the Id column from the dataset\n",
    "# data.drop('Id',axis=1,inplace=True)\n",
    "\n",
    "print('Shape of the data is: ',data.shape)\n",
    "\n",
    "data.head()"
   ]
  },
  {
   "cell_type": "code",
   "execution_count": 19,
   "metadata": {
    "scrolled": true
   },
   "outputs": [
    {
     "data": {
      "text/html": [
       "<div>\n",
       "<style scoped>\n",
       "    .dataframe tbody tr th:only-of-type {\n",
       "        vertical-align: middle;\n",
       "    }\n",
       "\n",
       "    .dataframe tbody tr th {\n",
       "        vertical-align: top;\n",
       "    }\n",
       "\n",
       "    .dataframe thead th {\n",
       "        text-align: right;\n",
       "    }\n",
       "</style>\n",
       "<table border=\"1\" class=\"dataframe\">\n",
       "  <thead>\n",
       "    <tr style=\"text-align: right;\">\n",
       "      <th></th>\n",
       "      <th>ID</th>\n",
       "      <th>Agency</th>\n",
       "      <th>Agency Type</th>\n",
       "      <th>Distribution Channel</th>\n",
       "      <th>Product Name</th>\n",
       "      <th>Duration</th>\n",
       "      <th>Destination</th>\n",
       "      <th>Net Sales</th>\n",
       "      <th>Commision (in value)</th>\n",
       "      <th>Age</th>\n",
       "      <th>Claim</th>\n",
       "    </tr>\n",
       "  </thead>\n",
       "  <tbody>\n",
       "    <tr>\n",
       "      <th>17997</th>\n",
       "      <td>8825</td>\n",
       "      <td>TST</td>\n",
       "      <td>Travel Agency</td>\n",
       "      <td>Offline</td>\n",
       "      <td>Travel Cruise Protect</td>\n",
       "      <td>94</td>\n",
       "      <td>THAILAND</td>\n",
       "      <td>-30.0</td>\n",
       "      <td>10.5</td>\n",
       "      <td>0</td>\n",
       "      <td>0</td>\n",
       "    </tr>\n",
       "    <tr>\n",
       "      <th>30400</th>\n",
       "      <td>4748</td>\n",
       "      <td>TST</td>\n",
       "      <td>Travel Agency</td>\n",
       "      <td>Offline</td>\n",
       "      <td>Travel Cruise Protect</td>\n",
       "      <td>94</td>\n",
       "      <td>THAILAND</td>\n",
       "      <td>30.0</td>\n",
       "      <td>10.5</td>\n",
       "      <td>0</td>\n",
       "      <td>0</td>\n",
       "    </tr>\n",
       "  </tbody>\n",
       "</table>\n",
       "</div>"
      ],
      "text/plain": [
       "         ID Agency    Agency Type Distribution Channel           Product Name  \\\n",
       "17997  8825    TST  Travel Agency              Offline  Travel Cruise Protect   \n",
       "30400  4748    TST  Travel Agency              Offline  Travel Cruise Protect   \n",
       "\n",
       "       Duration Destination  Net Sales  Commision (in value)  Age  Claim  \n",
       "17997        94    THAILAND      -30.0                  10.5    0      0  \n",
       "30400        94    THAILAND       30.0                  10.5    0      0  "
      ]
     },
     "execution_count": 19,
     "metadata": {},
     "output_type": "execute_result"
    }
   ],
   "source": [
    "data[data['Age']==0]"
   ]
  },
  {
   "cell_type": "code",
   "execution_count": 21,
   "metadata": {},
   "outputs": [
    {
     "data": {
      "text/plain": [
       "(1840, 11)"
      ]
     },
     "execution_count": 21,
     "metadata": {},
     "output_type": "execute_result"
    }
   ],
   "source": [
    "data[data['Net Sales']<=0].shape"
   ]
  },
  {
   "cell_type": "code",
   "execution_count": 24,
   "metadata": {},
   "outputs": [
    {
     "data": {
      "text/plain": [
       "(26260, 11)"
      ]
     },
     "execution_count": 24,
     "metadata": {},
     "output_type": "execute_result"
    }
   ],
   "source": [
    "data[data['Commision (in value)']<=0].shape"
   ]
  },
  {
   "cell_type": "code",
   "execution_count": 25,
   "metadata": {},
   "outputs": [
    {
     "data": {
      "text/plain": [
       "(46, 11)"
      ]
     },
     "execution_count": 25,
     "metadata": {},
     "output_type": "execute_result"
    }
   ],
   "source": [
    "data[data['Duration']<=0].shape"
   ]
  },
  {
   "cell_type": "code",
   "execution_count": 27,
   "metadata": {},
   "outputs": [
    {
     "data": {
      "text/html": [
       "<div>\n",
       "<style scoped>\n",
       "    .dataframe tbody tr th:only-of-type {\n",
       "        vertical-align: middle;\n",
       "    }\n",
       "\n",
       "    .dataframe tbody tr th {\n",
       "        vertical-align: top;\n",
       "    }\n",
       "\n",
       "    .dataframe thead th {\n",
       "        text-align: right;\n",
       "    }\n",
       "</style>\n",
       "<table border=\"1\" class=\"dataframe\">\n",
       "  <thead>\n",
       "    <tr style=\"text-align: right;\">\n",
       "      <th></th>\n",
       "      <th>ID</th>\n",
       "      <th>Agency</th>\n",
       "      <th>Agency Type</th>\n",
       "      <th>Distribution Channel</th>\n",
       "      <th>Product Name</th>\n",
       "      <th>Duration</th>\n",
       "      <th>Destination</th>\n",
       "      <th>Net Sales</th>\n",
       "      <th>Commision (in value)</th>\n",
       "      <th>Age</th>\n",
       "      <th>Claim</th>\n",
       "    </tr>\n",
       "  </thead>\n",
       "  <tbody>\n",
       "    <tr>\n",
       "      <th>11523</th>\n",
       "      <td>9450</td>\n",
       "      <td>JZI</td>\n",
       "      <td>Airlines</td>\n",
       "      <td>Online</td>\n",
       "      <td>Basic Plan</td>\n",
       "      <td>-1</td>\n",
       "      <td>INDONESIA</td>\n",
       "      <td>18.0</td>\n",
       "      <td>6.3</td>\n",
       "      <td>118</td>\n",
       "      <td>0</td>\n",
       "    </tr>\n",
       "    <tr>\n",
       "      <th>15949</th>\n",
       "      <td>7015</td>\n",
       "      <td>JZI</td>\n",
       "      <td>Airlines</td>\n",
       "      <td>Online</td>\n",
       "      <td>Basic Plan</td>\n",
       "      <td>-1</td>\n",
       "      <td>BRUNEI DARUSSALAM</td>\n",
       "      <td>18.0</td>\n",
       "      <td>6.3</td>\n",
       "      <td>118</td>\n",
       "      <td>0</td>\n",
       "    </tr>\n",
       "    <tr>\n",
       "      <th>33398</th>\n",
       "      <td>4193</td>\n",
       "      <td>JZI</td>\n",
       "      <td>Airlines</td>\n",
       "      <td>Online</td>\n",
       "      <td>Basic Plan</td>\n",
       "      <td>-1</td>\n",
       "      <td>MALAYSIA</td>\n",
       "      <td>18.0</td>\n",
       "      <td>6.3</td>\n",
       "      <td>118</td>\n",
       "      <td>0</td>\n",
       "    </tr>\n",
       "    <tr>\n",
       "      <th>41424</th>\n",
       "      <td>7763</td>\n",
       "      <td>JZI</td>\n",
       "      <td>Airlines</td>\n",
       "      <td>Online</td>\n",
       "      <td>Basic Plan</td>\n",
       "      <td>-2</td>\n",
       "      <td>BANGLADESH</td>\n",
       "      <td>22.0</td>\n",
       "      <td>7.7</td>\n",
       "      <td>118</td>\n",
       "      <td>0</td>\n",
       "    </tr>\n",
       "  </tbody>\n",
       "</table>\n",
       "</div>"
      ],
      "text/plain": [
       "         ID Agency Agency Type Distribution Channel Product Name  Duration  \\\n",
       "11523  9450    JZI    Airlines               Online   Basic Plan        -1   \n",
       "15949  7015    JZI    Airlines               Online   Basic Plan        -1   \n",
       "33398  4193    JZI    Airlines               Online   Basic Plan        -1   \n",
       "41424  7763    JZI    Airlines               Online   Basic Plan        -2   \n",
       "\n",
       "             Destination  Net Sales  Commision (in value)  Age  Claim  \n",
       "11523          INDONESIA       18.0                   6.3  118      0  \n",
       "15949  BRUNEI DARUSSALAM       18.0                   6.3  118      0  \n",
       "33398           MALAYSIA       18.0                   6.3  118      0  \n",
       "41424         BANGLADESH       22.0                   7.7  118      0  "
      ]
     },
     "execution_count": 27,
     "metadata": {},
     "output_type": "execute_result"
    }
   ],
   "source": [
    "data[data['Duration']<0]"
   ]
  },
  {
   "cell_type": "code",
   "execution_count": 36,
   "metadata": {},
   "outputs": [
    {
     "data": {
      "text/plain": [
       "{101, 105, 108, 115, 117, 118}"
      ]
     },
     "execution_count": 36,
     "metadata": {},
     "output_type": "execute_result"
    }
   ],
   "source": [
    "set(data[data['Age']>100]['Age'].values)"
   ]
  },
  {
   "cell_type": "code",
   "execution_count": 3,
   "metadata": {
    "scrolled": false
   },
   "outputs": [
    {
     "data": {
      "text/html": [
       "<div>\n",
       "<style scoped>\n",
       "    .dataframe tbody tr th:only-of-type {\n",
       "        vertical-align: middle;\n",
       "    }\n",
       "\n",
       "    .dataframe tbody tr th {\n",
       "        vertical-align: top;\n",
       "    }\n",
       "\n",
       "    .dataframe thead th {\n",
       "        text-align: right;\n",
       "    }\n",
       "</style>\n",
       "<table border=\"1\" class=\"dataframe\">\n",
       "  <thead>\n",
       "    <tr style=\"text-align: right;\">\n",
       "      <th></th>\n",
       "      <th>Agency</th>\n",
       "      <th>Agency Type</th>\n",
       "      <th>Distribution Channel</th>\n",
       "      <th>Product Name</th>\n",
       "      <th>Duration</th>\n",
       "      <th>Destination</th>\n",
       "      <th>Net Sales</th>\n",
       "      <th>Commision (in value)</th>\n",
       "      <th>Age</th>\n",
       "      <th>Claim</th>\n",
       "    </tr>\n",
       "  </thead>\n",
       "  <tbody>\n",
       "    <tr>\n",
       "      <th>0</th>\n",
       "      <td>EPX</td>\n",
       "      <td>Travel Agency</td>\n",
       "      <td>Online</td>\n",
       "      <td>Cancellation Plan</td>\n",
       "      <td>61</td>\n",
       "      <td>PHILIPPINES</td>\n",
       "      <td>12.0</td>\n",
       "      <td>0.00</td>\n",
       "      <td>41</td>\n",
       "      <td>0</td>\n",
       "    </tr>\n",
       "    <tr>\n",
       "      <th>1</th>\n",
       "      <td>EPX</td>\n",
       "      <td>Travel Agency</td>\n",
       "      <td>Online</td>\n",
       "      <td>Cancellation Plan</td>\n",
       "      <td>4</td>\n",
       "      <td>MALAYSIA</td>\n",
       "      <td>17.0</td>\n",
       "      <td>0.00</td>\n",
       "      <td>35</td>\n",
       "      <td>0</td>\n",
       "    </tr>\n",
       "    <tr>\n",
       "      <th>2</th>\n",
       "      <td>CWT</td>\n",
       "      <td>Travel Agency</td>\n",
       "      <td>Online</td>\n",
       "      <td>Rental Vehicle Excess Insurance</td>\n",
       "      <td>26</td>\n",
       "      <td>THAILAND</td>\n",
       "      <td>19.8</td>\n",
       "      <td>11.88</td>\n",
       "      <td>47</td>\n",
       "      <td>0</td>\n",
       "    </tr>\n",
       "    <tr>\n",
       "      <th>3</th>\n",
       "      <td>EPX</td>\n",
       "      <td>Travel Agency</td>\n",
       "      <td>Online</td>\n",
       "      <td>2 way Comprehensive Plan</td>\n",
       "      <td>15</td>\n",
       "      <td>HONG KONG</td>\n",
       "      <td>27.0</td>\n",
       "      <td>0.00</td>\n",
       "      <td>48</td>\n",
       "      <td>0</td>\n",
       "    </tr>\n",
       "    <tr>\n",
       "      <th>4</th>\n",
       "      <td>EPX</td>\n",
       "      <td>Travel Agency</td>\n",
       "      <td>Online</td>\n",
       "      <td>2 way Comprehensive Plan</td>\n",
       "      <td>15</td>\n",
       "      <td>MALAYSIA</td>\n",
       "      <td>37.0</td>\n",
       "      <td>0.00</td>\n",
       "      <td>36</td>\n",
       "      <td>0</td>\n",
       "    </tr>\n",
       "  </tbody>\n",
       "</table>\n",
       "</div>"
      ],
      "text/plain": [
       "  Agency    Agency Type Distribution Channel                     Product Name  \\\n",
       "0    EPX  Travel Agency               Online                Cancellation Plan   \n",
       "1    EPX  Travel Agency               Online                Cancellation Plan   \n",
       "2    CWT  Travel Agency               Online  Rental Vehicle Excess Insurance   \n",
       "3    EPX  Travel Agency               Online         2 way Comprehensive Plan   \n",
       "4    EPX  Travel Agency               Online         2 way Comprehensive Plan   \n",
       "\n",
       "   Duration  Destination  Net Sales  Commision (in value)  Age  Claim  \n",
       "0        61  PHILIPPINES       12.0                  0.00   41      0  \n",
       "1         4     MALAYSIA       17.0                  0.00   35      0  \n",
       "2        26     THAILAND       19.8                 11.88   47      0  \n",
       "3        15    HONG KONG       27.0                  0.00   48      0  \n",
       "4        15     MALAYSIA       37.0                  0.00   36      0  "
      ]
     },
     "execution_count": 3,
     "metadata": {},
     "output_type": "execute_result"
    }
   ],
   "source": [
    "#removing ID column\n",
    "data.drop(columns=['ID'],axis=1,inplace=True)\n",
    "data.head()"
   ]
  },
  {
   "cell_type": "code",
   "execution_count": 15,
   "metadata": {},
   "outputs": [
    {
     "data": {
      "text/plain": [
       "97"
      ]
     },
     "execution_count": 15,
     "metadata": {},
     "output_type": "execute_result"
    }
   ],
   "source": [
    "dest = set(data['Destination'].value_counts().index)\n",
    "len(dest)"
   ]
  },
  {
   "cell_type": "code",
   "execution_count": 5,
   "metadata": {
    "scrolled": true
   },
   "outputs": [
    {
     "data": {
      "text/plain": [
       "0    43590\n",
       "1     8720\n",
       "Name: Claim, dtype: int64"
      ]
     },
     "execution_count": 5,
     "metadata": {},
     "output_type": "execute_result"
    }
   ],
   "source": [
    "data['Claim'].value_counts()"
   ]
  },
  {
   "cell_type": "code",
   "execution_count": 6,
   "metadata": {},
   "outputs": [
    {
     "data": {
      "text/plain": [
       "Cancellation Plan                       13254\n",
       "2 way Comprehensive Plan                10555\n",
       "Rental Vehicle Excess Insurance          6813\n",
       "Bronze Plan                              4723\n",
       "Basic Plan                               4042\n",
       "Silver Plan                              2862\n",
       "1 way Comprehensive Plan                 2409\n",
       "Annual Silver Plan                       2348\n",
       "Value Plan                               1961\n",
       "Ticket Protector                          780\n",
       "Travel Cruise Protect                     394\n",
       "Gold Plan                                 380\n",
       "Annual Gold Plan                          295\n",
       "Comprehensive Plan                        278\n",
       "Single Trip Travel Protect Gold           251\n",
       "Annual Travel Protect Gold                183\n",
       "24 Protect                                165\n",
       "Premier Plan                              141\n",
       "Single Trip Travel Protect Silver         130\n",
       "Single Trip Travel Protect Platinum       100\n",
       "Annual Travel Protect Silver               92\n",
       "Individual Comprehensive Plan              84\n",
       "Annual Travel Protect Platinum             50\n",
       "Spouse or Parents Comprehensive Plan       12\n",
       "Child Comprehensive Plan                    8\n",
       "Name: Product Name, dtype: int64"
      ]
     },
     "execution_count": 6,
     "metadata": {},
     "output_type": "execute_result"
    }
   ],
   "source": [
    "data['Product Name'].value_counts()"
   ]
  },
  {
   "cell_type": "code",
   "execution_count": 4,
   "metadata": {},
   "outputs": [],
   "source": [
    "# Predictors\n",
    "X = data.iloc[:,:-1]\n",
    "\n",
    "# Target\n",
    "y = data.iloc[:,-1]"
   ]
  },
  {
   "cell_type": "code",
   "execution_count": 6,
   "metadata": {},
   "outputs": [
    {
     "data": {
      "text/html": [
       "<div>\n",
       "<style scoped>\n",
       "    .dataframe tbody tr th:only-of-type {\n",
       "        vertical-align: middle;\n",
       "    }\n",
       "\n",
       "    .dataframe tbody tr th {\n",
       "        vertical-align: top;\n",
       "    }\n",
       "\n",
       "    .dataframe thead th {\n",
       "        text-align: right;\n",
       "    }\n",
       "</style>\n",
       "<table border=\"1\" class=\"dataframe\">\n",
       "  <thead>\n",
       "    <tr style=\"text-align: right;\">\n",
       "      <th></th>\n",
       "      <th>Agency</th>\n",
       "      <th>Agency Type</th>\n",
       "      <th>Distribution Channel</th>\n",
       "      <th>Product Name</th>\n",
       "      <th>Duration</th>\n",
       "      <th>Destination</th>\n",
       "      <th>Net Sales</th>\n",
       "      <th>Commision (in value)</th>\n",
       "      <th>Age</th>\n",
       "    </tr>\n",
       "  </thead>\n",
       "  <tbody>\n",
       "    <tr>\n",
       "      <th>0</th>\n",
       "      <td>EPX</td>\n",
       "      <td>Travel Agency</td>\n",
       "      <td>Online</td>\n",
       "      <td>Cancellation Plan</td>\n",
       "      <td>61</td>\n",
       "      <td>PHILIPPINES</td>\n",
       "      <td>12.0</td>\n",
       "      <td>0.00</td>\n",
       "      <td>41</td>\n",
       "    </tr>\n",
       "    <tr>\n",
       "      <th>1</th>\n",
       "      <td>EPX</td>\n",
       "      <td>Travel Agency</td>\n",
       "      <td>Online</td>\n",
       "      <td>Cancellation Plan</td>\n",
       "      <td>4</td>\n",
       "      <td>MALAYSIA</td>\n",
       "      <td>17.0</td>\n",
       "      <td>0.00</td>\n",
       "      <td>35</td>\n",
       "    </tr>\n",
       "    <tr>\n",
       "      <th>2</th>\n",
       "      <td>CWT</td>\n",
       "      <td>Travel Agency</td>\n",
       "      <td>Online</td>\n",
       "      <td>Rental Vehicle Excess Insurance</td>\n",
       "      <td>26</td>\n",
       "      <td>THAILAND</td>\n",
       "      <td>19.8</td>\n",
       "      <td>11.88</td>\n",
       "      <td>47</td>\n",
       "    </tr>\n",
       "    <tr>\n",
       "      <th>3</th>\n",
       "      <td>EPX</td>\n",
       "      <td>Travel Agency</td>\n",
       "      <td>Online</td>\n",
       "      <td>2 way Comprehensive Plan</td>\n",
       "      <td>15</td>\n",
       "      <td>HONG KONG</td>\n",
       "      <td>27.0</td>\n",
       "      <td>0.00</td>\n",
       "      <td>48</td>\n",
       "    </tr>\n",
       "    <tr>\n",
       "      <th>4</th>\n",
       "      <td>EPX</td>\n",
       "      <td>Travel Agency</td>\n",
       "      <td>Online</td>\n",
       "      <td>2 way Comprehensive Plan</td>\n",
       "      <td>15</td>\n",
       "      <td>MALAYSIA</td>\n",
       "      <td>37.0</td>\n",
       "      <td>0.00</td>\n",
       "      <td>36</td>\n",
       "    </tr>\n",
       "  </tbody>\n",
       "</table>\n",
       "</div>"
      ],
      "text/plain": [
       "  Agency    Agency Type Distribution Channel                     Product Name  \\\n",
       "0    EPX  Travel Agency               Online                Cancellation Plan   \n",
       "1    EPX  Travel Agency               Online                Cancellation Plan   \n",
       "2    CWT  Travel Agency               Online  Rental Vehicle Excess Insurance   \n",
       "3    EPX  Travel Agency               Online         2 way Comprehensive Plan   \n",
       "4    EPX  Travel Agency               Online         2 way Comprehensive Plan   \n",
       "\n",
       "   Duration  Destination  Net Sales  Commision (in value)  Age  \n",
       "0        61  PHILIPPINES       12.0                  0.00   41  \n",
       "1         4     MALAYSIA       17.0                  0.00   35  \n",
       "2        26     THAILAND       19.8                 11.88   47  \n",
       "3        15    HONG KONG       27.0                  0.00   48  \n",
       "4        15     MALAYSIA       37.0                  0.00   36  "
      ]
     },
     "execution_count": 6,
     "metadata": {},
     "output_type": "execute_result"
    }
   ],
   "source": [
    "X.head()"
   ]
  },
  {
   "cell_type": "code",
   "execution_count": 7,
   "metadata": {
    "scrolled": true
   },
   "outputs": [
    {
     "data": {
      "text/html": [
       "<div>\n",
       "<style scoped>\n",
       "    .dataframe tbody tr th:only-of-type {\n",
       "        vertical-align: middle;\n",
       "    }\n",
       "\n",
       "    .dataframe tbody tr th {\n",
       "        vertical-align: top;\n",
       "    }\n",
       "\n",
       "    .dataframe thead th {\n",
       "        text-align: right;\n",
       "    }\n",
       "</style>\n",
       "<table border=\"1\" class=\"dataframe\">\n",
       "  <thead>\n",
       "    <tr style=\"text-align: right;\">\n",
       "      <th></th>\n",
       "      <th>Feature</th>\n",
       "      <th>Number of Outliers</th>\n",
       "      <th>Percentage</th>\n",
       "      <th>Fence Low</th>\n",
       "      <th>Fence High</th>\n",
       "    </tr>\n",
       "  </thead>\n",
       "  <tbody>\n",
       "    <tr>\n",
       "      <th>0</th>\n",
       "      <td>Duration</td>\n",
       "      <td>5484</td>\n",
       "      <td>10.483655</td>\n",
       "      <td>-60.50</td>\n",
       "      <td>127.50</td>\n",
       "    </tr>\n",
       "    <tr>\n",
       "      <th>1</th>\n",
       "      <td>Net Sales</td>\n",
       "      <td>5335</td>\n",
       "      <td>10.198815</td>\n",
       "      <td>-33.00</td>\n",
       "      <td>107.80</td>\n",
       "    </tr>\n",
       "    <tr>\n",
       "      <th>2</th>\n",
       "      <td>Commision (in value)</td>\n",
       "      <td>6394</td>\n",
       "      <td>12.223284</td>\n",
       "      <td>-20.07</td>\n",
       "      <td>33.45</td>\n",
       "    </tr>\n",
       "    <tr>\n",
       "      <th>3</th>\n",
       "      <td>Age</td>\n",
       "      <td>3675</td>\n",
       "      <td>7.025425</td>\n",
       "      <td>18.00</td>\n",
       "      <td>58.00</td>\n",
       "    </tr>\n",
       "  </tbody>\n",
       "</table>\n",
       "</div>"
      ],
      "text/plain": [
       "                Feature Number of Outliers  Percentage  Fence Low  Fence High\n",
       "0              Duration               5484   10.483655     -60.50      127.50\n",
       "1             Net Sales               5335   10.198815     -33.00      107.80\n",
       "2  Commision (in value)               6394   12.223284     -20.07       33.45\n",
       "3                   Age               3675    7.025425      18.00       58.00"
      ]
     },
     "execution_count": 7,
     "metadata": {},
     "output_type": "execute_result"
    }
   ],
   "source": [
    "# Function to detect outliers in every feature\n",
    "def detect_outliers(dataframe):\n",
    "    cols = list(dataframe)\n",
    "    outliers = pd.DataFrame(columns=['Feature','Number of Outliers','Percentage','Fence Low','Fence High'])\n",
    "    \n",
    "    for column in cols:\n",
    "        if column in dataframe.select_dtypes(include=np.number).columns:\n",
    "            # first quartile (Q1)\n",
    "            q1 = dataframe[column].quantile(0.25) \n",
    "            \n",
    "            # third quartile (Q3)\n",
    "            q3 = dataframe[column].quantile(0.75)\n",
    "            \n",
    "            # IQR\n",
    "            iqr = q3 - q1\n",
    "            \n",
    "            fence_low = q1 - (1.5*iqr)\n",
    "            fence_high = q3 + (1.5*iqr)\n",
    "            outliers = outliers.append({'Feature':column,\n",
    "                                        'Number of Outliers':dataframe.loc[(dataframe[column] < fence_low) \n",
    "                                                                           | (dataframe[column] > fence_high)]\n",
    "                                        .shape[0], 'Percentage':(dataframe.loc[(dataframe[column] < fence_low) | (dataframe[column] > fence_high)].shape[0]/len(dataframe))*100,\n",
    "                                       'Fence Low': fence_low, 'Fence High': fence_high},\n",
    "                                       ignore_index=True)\n",
    "    return outliers\n",
    "temp = detect_outliers(X)\n",
    "temp\n"
   ]
  },
  {
   "cell_type": "code",
   "execution_count": 8,
   "metadata": {
    "scrolled": true
   },
   "outputs": [
    {
     "data": {
      "text/html": [
       "<div>\n",
       "<style scoped>\n",
       "    .dataframe tbody tr th:only-of-type {\n",
       "        vertical-align: middle;\n",
       "    }\n",
       "\n",
       "    .dataframe tbody tr th {\n",
       "        vertical-align: top;\n",
       "    }\n",
       "\n",
       "    .dataframe thead th {\n",
       "        text-align: right;\n",
       "    }\n",
       "</style>\n",
       "<table border=\"1\" class=\"dataframe\">\n",
       "  <thead>\n",
       "    <tr style=\"text-align: right;\">\n",
       "      <th></th>\n",
       "      <th>Feature</th>\n",
       "      <th>Number of Outliers</th>\n",
       "      <th>Percentage</th>\n",
       "      <th>Fence Low</th>\n",
       "      <th>Fence High</th>\n",
       "    </tr>\n",
       "  </thead>\n",
       "  <tbody>\n",
       "    <tr>\n",
       "      <th>0</th>\n",
       "      <td>Duration</td>\n",
       "      <td>5484</td>\n",
       "      <td>10.483655</td>\n",
       "      <td>-60.50</td>\n",
       "      <td>127.50</td>\n",
       "    </tr>\n",
       "    <tr>\n",
       "      <th>1</th>\n",
       "      <td>Net Sales</td>\n",
       "      <td>0</td>\n",
       "      <td>0.000000</td>\n",
       "      <td>-33.00</td>\n",
       "      <td>107.80</td>\n",
       "    </tr>\n",
       "    <tr>\n",
       "      <th>2</th>\n",
       "      <td>Commision (in value)</td>\n",
       "      <td>6394</td>\n",
       "      <td>12.223284</td>\n",
       "      <td>-20.07</td>\n",
       "      <td>33.45</td>\n",
       "    </tr>\n",
       "    <tr>\n",
       "      <th>3</th>\n",
       "      <td>Age</td>\n",
       "      <td>0</td>\n",
       "      <td>0.000000</td>\n",
       "      <td>18.00</td>\n",
       "      <td>58.00</td>\n",
       "    </tr>\n",
       "  </tbody>\n",
       "</table>\n",
       "</div>"
      ],
      "text/plain": [
       "                Feature Number of Outliers  Percentage  Fence Low  Fence High\n",
       "0              Duration               5484   10.483655     -60.50      127.50\n",
       "1             Net Sales                  0    0.000000     -33.00      107.80\n",
       "2  Commision (in value)               6394   12.223284     -20.07       33.45\n",
       "3                   Age                  0    0.000000      18.00       58.00"
      ]
     },
     "execution_count": 8,
     "metadata": {},
     "output_type": "execute_result"
    }
   ],
   "source": [
    "from scipy.stats.mstats import winsorize\n",
    "# Function to treat outliers \n",
    "def treat_outliers(dataframe):\n",
    "    cols = list(dataframe)\n",
    "    for col in cols:\n",
    "        if col in dataframe.select_dtypes(include=np.number).columns:\n",
    "            dataframe[col] = winsorize(dataframe[col], limits=[0.05, 0.1],inclusive=(True, True))\n",
    "    \n",
    "    return dataframe    \n",
    "\n",
    "\n",
    "df = treat_outliers(X)\n",
    "\n",
    "# Checking for outliers after applying winsorization\n",
    "detect_outliers(X)"
   ]
  },
  {
   "cell_type": "code",
   "execution_count": 9,
   "metadata": {
    "scrolled": true
   },
   "outputs": [
    {
     "name": "stdout",
     "output_type": "stream",
     "text": [
      "Positively Skewed Features \n",
      "                Features  Skewness\n",
      "0              Duration  1.232835\n",
      "1             Net Sales  1.014536\n",
      "2  Commision (in value)  1.396855\n",
      "**************************************************\n",
      "Negatively Skewed Features \n",
      " Empty DataFrame\n",
      "Columns: [Features, Skewness]\n",
      "Index: []\n"
     ]
    }
   ],
   "source": [
    "#Treat Skewness\n",
    "import scipy.stats as scs\n",
    "\n",
    "features = []\n",
    "skewness = []\n",
    "for i in X.select_dtypes(include=np.number).columns:\n",
    "    features.append(i)\n",
    "    skewness.append(scs.skew(X[i]))\n",
    "skewed = pd.DataFrame({'Features':features,'Skewness':skewness})\n",
    "\n",
    "# If skewness is greater than 1 the feature is highly positively skewed\n",
    "positively_skewed_variables = skewed[(skewed['Skewness']>1)]\n",
    "\n",
    "# If the skewness is less than -1 the feature is highly negatively skewed.\n",
    "negatively_skewed_variables = skewed[(skewed['Skewness']<-1)]\n",
    "\n",
    "print('Positively Skewed Features \\n',positively_skewed_variables)\n",
    "print('*'*50)\n",
    "print('Negatively Skewed Features \\n',negatively_skewed_variables) \n",
    "\n",
    "for i in positively_skewed_variables['Features']:\n",
    "     X[i] = np.log1p(X[i])\n",
    "# Let's remove the skewness in the positively skewed variables by using a log transform\n",
    "# for i in positively_skewed_variables['Features']:\n",
    "#     X[i] = np.log1p(X[i])"
   ]
  },
  {
   "cell_type": "code",
   "execution_count": 10,
   "metadata": {},
   "outputs": [],
   "source": [
    "# Let's remove the skewness in the positively skewed variables by using a log transform\n",
    "for i in positively_skewed_variables['Features']:\n",
    "     X[i] = np.log1p(X[i])"
   ]
  },
  {
   "cell_type": "code",
   "execution_count": 11,
   "metadata": {},
   "outputs": [
    {
     "data": {
      "text/html": [
       "<div>\n",
       "<style scoped>\n",
       "    .dataframe tbody tr th:only-of-type {\n",
       "        vertical-align: middle;\n",
       "    }\n",
       "\n",
       "    .dataframe tbody tr th {\n",
       "        vertical-align: top;\n",
       "    }\n",
       "\n",
       "    .dataframe thead th {\n",
       "        text-align: right;\n",
       "    }\n",
       "</style>\n",
       "<table border=\"1\" class=\"dataframe\">\n",
       "  <thead>\n",
       "    <tr style=\"text-align: right;\">\n",
       "      <th></th>\n",
       "      <th>Feature</th>\n",
       "      <th>Number of Outliers</th>\n",
       "      <th>Percentage</th>\n",
       "      <th>Fence Low</th>\n",
       "      <th>Fence High</th>\n",
       "    </tr>\n",
       "  </thead>\n",
       "  <tbody>\n",
       "    <tr>\n",
       "      <th>0</th>\n",
       "      <td>Duration</td>\n",
       "      <td>0</td>\n",
       "      <td>0.0</td>\n",
       "      <td>0.625709</td>\n",
       "      <td>2.218901</td>\n",
       "    </tr>\n",
       "    <tr>\n",
       "      <th>1</th>\n",
       "      <td>Net Sales</td>\n",
       "      <td>0</td>\n",
       "      <td>0.0</td>\n",
       "      <td>1.065743</td>\n",
       "      <td>1.943747</td>\n",
       "    </tr>\n",
       "    <tr>\n",
       "      <th>2</th>\n",
       "      <td>Commision (in value)</td>\n",
       "      <td>0</td>\n",
       "      <td>0.0</td>\n",
       "      <td>-1.948586</td>\n",
       "      <td>3.247643</td>\n",
       "    </tr>\n",
       "    <tr>\n",
       "      <th>3</th>\n",
       "      <td>Age</td>\n",
       "      <td>0</td>\n",
       "      <td>0.0</td>\n",
       "      <td>18.000000</td>\n",
       "      <td>58.000000</td>\n",
       "    </tr>\n",
       "  </tbody>\n",
       "</table>\n",
       "</div>"
      ],
      "text/plain": [
       "                Feature Number of Outliers  Percentage  Fence Low  Fence High\n",
       "0              Duration                  0         0.0   0.625709    2.218901\n",
       "1             Net Sales                  0         0.0   1.065743    1.943747\n",
       "2  Commision (in value)                  0         0.0  -1.948586    3.247643\n",
       "3                   Age                  0         0.0  18.000000   58.000000"
      ]
     },
     "execution_count": 11,
     "metadata": {},
     "output_type": "execute_result"
    }
   ],
   "source": [
    "# Checking for outliers after applying winsorization\n",
    "detect_outliers(X)"
   ]
  },
  {
   "cell_type": "code",
   "execution_count": 12,
   "metadata": {},
   "outputs": [
    {
     "data": {
      "text/plain": [
       "0    83.330147\n",
       "1    16.669853\n",
       "Name: Claim, dtype: float64"
      ]
     },
     "execution_count": 12,
     "metadata": {},
     "output_type": "execute_result"
    }
   ],
   "source": [
    "#Check for Class Imbalance\n",
    "def class_imbalance(target):\n",
    "    class_values = (target.value_counts()/target.value_counts().sum())*100\n",
    "    return class_values\n",
    "\n",
    "class_imbalance(data['Claim'])"
   ]
  },
  {
   "cell_type": "code",
   "execution_count": 13,
   "metadata": {},
   "outputs": [],
   "source": [
    "le = LabelEncoder()\n",
    "# Function that auto encodes any dataframe column of type category or object.\n",
    "def dummyEncode(dataset):\n",
    "        \n",
    "        columnsToEncode = list(dataset.select_dtypes(include=['category','object']))\n",
    "        le = LabelEncoder()\n",
    "        for feature in columnsToEncode:\n",
    "            try:\n",
    "                dataset[feature] = le.fit_transform(dataset[feature])\n",
    "            except:\n",
    "                print('Error encoding '+feature)\n",
    "        return dataset\n",
    "data = dummyEncode(data)\n"
   ]
  },
  {
   "cell_type": "code",
   "execution_count": 14,
   "metadata": {},
   "outputs": [],
   "source": [
    "# Predictors\n",
    "X = data.iloc[:,:-1]\n",
    "\n",
    "# Target\n",
    "y = data.iloc[:,-1]"
   ]
  },
  {
   "cell_type": "markdown",
   "metadata": {},
   "source": [
    "## By remove outlier and check on submission 2 our model was improved  "
   ]
  },
  {
   "cell_type": "code",
   "execution_count": 15,
   "metadata": {
    "scrolled": true
   },
   "outputs": [
    {
     "name": "stdout",
     "output_type": "stream",
     "text": [
      "score is: 0.9578606158833063\n",
      "0    21573\n",
      "1      848\n",
      "Name: Claim, dtype: int64\n"
     ]
    }
   ],
   "source": [
    "def XGboost(dataframe,target):\n",
    "    \n",
    "    x_train,x_val,y_train,y_val = train_test_split(dataframe,target, test_size=0.3, random_state=42)\n",
    " \n",
    "    global xgbc\n",
    "    rfc_clf=RandomForestClassifier()\n",
    "    xgbc = XGBClassifier(base_estimator=rfc_clf, random_state=42, learning_rate=0.8, gamma=0.7, max_depth=8, min_child_weight=5, scale_pos_weight=0.1, grow_policy='lossguide')\n",
    "    xgbc.fit(x_train, y_train)\n",
    "    y_pred=xgbc.predict(x_val)\n",
    "    precision=precision_score(y_val,y_pred)\n",
    "    return precision\n",
    "\n",
    "#trainning\n",
    "precision = XGboost(X,y)    \n",
    "print('score is:',precision)\n",
    "\n",
    "#testing function\n",
    "def prediction(test):\n",
    "    y_pred = xgbc.predict(test)\n",
    "    \n",
    "    return y_pred\n",
    "\n",
    "test=pd.read_csv('./data/test.csv')\n",
    "\n",
    "# Storing the Id column\n",
    "Id = test[['ID']]\n",
    "\n",
    "# Preprocessed Test File\n",
    "test.drop('ID',1,inplace=True)\n",
    "test.head()\n",
    "#label encoder\n",
    "test = dummyEncode(test)\n",
    "test.head()\n",
    "\n",
    "#predicting on test file\n",
    "y_pred = pd.DataFrame(prediction(test),columns=['Claim']) \n",
    "print(y_pred['Claim'].value_counts())"
   ]
  },
  {
   "cell_type": "code",
   "execution_count": null,
   "metadata": {},
   "outputs": [],
   "source": []
  },
  {
   "cell_type": "code",
   "execution_count": 72,
   "metadata": {},
   "outputs": [
    {
     "data": {
      "text/html": [
       "<div>\n",
       "<style scoped>\n",
       "    .dataframe tbody tr th:only-of-type {\n",
       "        vertical-align: middle;\n",
       "    }\n",
       "\n",
       "    .dataframe tbody tr th {\n",
       "        vertical-align: top;\n",
       "    }\n",
       "\n",
       "    .dataframe thead th {\n",
       "        text-align: right;\n",
       "    }\n",
       "</style>\n",
       "<table border=\"1\" class=\"dataframe\">\n",
       "  <thead>\n",
       "    <tr style=\"text-align: right;\">\n",
       "      <th></th>\n",
       "      <th>Agency</th>\n",
       "      <th>Agency Type</th>\n",
       "      <th>Distribution Channel</th>\n",
       "      <th>Product Name</th>\n",
       "      <th>Duration</th>\n",
       "      <th>Destination</th>\n",
       "      <th>Net Sales</th>\n",
       "      <th>Commision (in value)</th>\n",
       "      <th>Age</th>\n",
       "    </tr>\n",
       "  </thead>\n",
       "  <tbody>\n",
       "    <tr>\n",
       "      <th>0</th>\n",
       "      <td>7</td>\n",
       "      <td>1</td>\n",
       "      <td>1</td>\n",
       "      <td>10</td>\n",
       "      <td>61.0</td>\n",
       "      <td>68</td>\n",
       "      <td>12.0</td>\n",
       "      <td>0.00</td>\n",
       "      <td>41</td>\n",
       "    </tr>\n",
       "    <tr>\n",
       "      <th>1</th>\n",
       "      <td>7</td>\n",
       "      <td>1</td>\n",
       "      <td>1</td>\n",
       "      <td>10</td>\n",
       "      <td>4.0</td>\n",
       "      <td>53</td>\n",
       "      <td>17.0</td>\n",
       "      <td>0.00</td>\n",
       "      <td>35</td>\n",
       "    </tr>\n",
       "    <tr>\n",
       "      <th>2</th>\n",
       "      <td>6</td>\n",
       "      <td>1</td>\n",
       "      <td>1</td>\n",
       "      <td>16</td>\n",
       "      <td>26.0</td>\n",
       "      <td>84</td>\n",
       "      <td>19.8</td>\n",
       "      <td>11.88</td>\n",
       "      <td>47</td>\n",
       "    </tr>\n",
       "    <tr>\n",
       "      <th>3</th>\n",
       "      <td>7</td>\n",
       "      <td>1</td>\n",
       "      <td>1</td>\n",
       "      <td>1</td>\n",
       "      <td>15.0</td>\n",
       "      <td>33</td>\n",
       "      <td>27.0</td>\n",
       "      <td>0.00</td>\n",
       "      <td>48</td>\n",
       "    </tr>\n",
       "    <tr>\n",
       "      <th>4</th>\n",
       "      <td>7</td>\n",
       "      <td>1</td>\n",
       "      <td>1</td>\n",
       "      <td>1</td>\n",
       "      <td>15.0</td>\n",
       "      <td>53</td>\n",
       "      <td>37.0</td>\n",
       "      <td>0.00</td>\n",
       "      <td>36</td>\n",
       "    </tr>\n",
       "  </tbody>\n",
       "</table>\n",
       "</div>"
      ],
      "text/plain": [
       "   Agency  Agency Type  Distribution Channel  Product Name  Duration  \\\n",
       "0       7            1                     1            10      61.0   \n",
       "1       7            1                     1            10       4.0   \n",
       "2       6            1                     1            16      26.0   \n",
       "3       7            1                     1             1      15.0   \n",
       "4       7            1                     1             1      15.0   \n",
       "\n",
       "   Destination  Net Sales  Commision (in value)  Age  \n",
       "0           68       12.0                  0.00   41  \n",
       "1           53       17.0                  0.00   35  \n",
       "2           84       19.8                 11.88   47  \n",
       "3           33       27.0                  0.00   48  \n",
       "4           53       37.0                  0.00   36  "
      ]
     },
     "execution_count": 72,
     "metadata": {},
     "output_type": "execute_result"
    }
   ],
   "source": [
    "X.head()"
   ]
  },
  {
   "cell_type": "code",
   "execution_count": 73,
   "metadata": {
    "scrolled": true
   },
   "outputs": [
    {
     "data": {
      "image/png": "[encoded data removed]",
      "text/plain": [
       "<Figure size 432x288 with 1 Axes>"
      ]
     },
     "metadata": {
      "needs_background": "light"
     },
     "output_type": "display_data"
    },
    {
     "name": "stdout",
     "output_type": "stream",
     "text": [
      "['Agency Type', 'Destination', 'Agency', 'Commision (in value)', 'Age', 'Duration', 'Net Sales']\n"
     ]
    }
   ],
   "source": [
    "# Feature Selection in Random Forest\n",
    "def rfc_feature_selection(dataset,target):\n",
    "    X_train, X_test, y_train, y_test = train_test_split(dataset, target, test_size=0.3, random_state=42, stratify=target)\n",
    "    rfc = RandomForestClassifier(random_state=42)\n",
    "    rfc.fit(X_train, y_train)\n",
    "    y_pred = rfc.predict(X_test)\n",
    "    rfc_importances = pd.Series(rfc.feature_importances_, index=dataset.columns).sort_values().tail(7)\n",
    "    rfc_importances.plot(kind='bar')\n",
    "    plt.show()\n",
    "    return  (rfc_importances.index).tolist()\n",
    "\n",
    "col = rfc_feature_selection(X,y)\n",
    "print(col)"
   ]
  },
  {
   "cell_type": "code",
   "execution_count": 74,
   "metadata": {},
   "outputs": [
    {
     "data": {
      "text/html": [
       "<div>\n",
       "<style scoped>\n",
       "    .dataframe tbody tr th:only-of-type {\n",
       "        vertical-align: middle;\n",
       "    }\n",
       "\n",
       "    .dataframe tbody tr th {\n",
       "        vertical-align: top;\n",
       "    }\n",
       "\n",
       "    .dataframe thead th {\n",
       "        text-align: right;\n",
       "    }\n",
       "</style>\n",
       "<table border=\"1\" class=\"dataframe\">\n",
       "  <thead>\n",
       "    <tr style=\"text-align: right;\">\n",
       "      <th></th>\n",
       "      <th>Agency Type</th>\n",
       "      <th>Destination</th>\n",
       "      <th>Agency</th>\n",
       "      <th>Commision (in value)</th>\n",
       "      <th>Age</th>\n",
       "      <th>Duration</th>\n",
       "      <th>Net Sales</th>\n",
       "    </tr>\n",
       "  </thead>\n",
       "  <tbody>\n",
       "    <tr>\n",
       "      <th>0</th>\n",
       "      <td>1</td>\n",
       "      <td>68</td>\n",
       "      <td>7</td>\n",
       "      <td>0.00</td>\n",
       "      <td>41</td>\n",
       "      <td>61.0</td>\n",
       "      <td>12.0</td>\n",
       "    </tr>\n",
       "    <tr>\n",
       "      <th>1</th>\n",
       "      <td>1</td>\n",
       "      <td>53</td>\n",
       "      <td>7</td>\n",
       "      <td>0.00</td>\n",
       "      <td>35</td>\n",
       "      <td>4.0</td>\n",
       "      <td>17.0</td>\n",
       "    </tr>\n",
       "    <tr>\n",
       "      <th>2</th>\n",
       "      <td>1</td>\n",
       "      <td>84</td>\n",
       "      <td>6</td>\n",
       "      <td>11.88</td>\n",
       "      <td>47</td>\n",
       "      <td>26.0</td>\n",
       "      <td>19.8</td>\n",
       "    </tr>\n",
       "    <tr>\n",
       "      <th>3</th>\n",
       "      <td>1</td>\n",
       "      <td>33</td>\n",
       "      <td>7</td>\n",
       "      <td>0.00</td>\n",
       "      <td>48</td>\n",
       "      <td>15.0</td>\n",
       "      <td>27.0</td>\n",
       "    </tr>\n",
       "    <tr>\n",
       "      <th>4</th>\n",
       "      <td>1</td>\n",
       "      <td>53</td>\n",
       "      <td>7</td>\n",
       "      <td>0.00</td>\n",
       "      <td>36</td>\n",
       "      <td>15.0</td>\n",
       "      <td>37.0</td>\n",
       "    </tr>\n",
       "  </tbody>\n",
       "</table>\n",
       "</div>"
      ],
      "text/plain": [
       "   Agency Type  Destination  Agency  Commision (in value)  Age  Duration  \\\n",
       "0            1           68       7                  0.00   41      61.0   \n",
       "1            1           53       7                  0.00   35       4.0   \n",
       "2            1           84       6                 11.88   47      26.0   \n",
       "3            1           33       7                  0.00   48      15.0   \n",
       "4            1           53       7                  0.00   36      15.0   \n",
       "\n",
       "   Net Sales  \n",
       "0       12.0  \n",
       "1       17.0  \n",
       "2       19.8  \n",
       "3       27.0  \n",
       "4       37.0  "
      ]
     },
     "execution_count": 74,
     "metadata": {},
     "output_type": "execute_result"
    }
   ],
   "source": [
    "X = X[col]\n",
    "X.head()"
   ]
  },
  {
   "cell_type": "code",
   "execution_count": 14,
   "metadata": {},
   "outputs": [
    {
     "name": "stdout",
     "output_type": "stream",
     "text": [
      "Best Parameters are:\n"
     ]
    },
    {
     "data": {
      "text/plain": [
       "{'criterion': 'gini', 'max_depth': 8, 'max_features': 'auto'}"
      ]
     },
     "execution_count": 14,
     "metadata": {},
     "output_type": "execute_result"
    }
   ],
   "source": [
    "#Grid Search for Random Forest For find out Best Parameter for Random Forest\n",
    "def grid_search_random_forrest(dataframe,target):\n",
    "\n",
    "    x_train,x_val,y_train,y_val = train_test_split(X,y, test_size=0.3, random_state=42, stratify=y)\n",
    "    rfc = RandomForestClassifier()\n",
    "    param_grid = { \n",
    "    'max_features': ['auto', 'sqrt', 'log2'],\n",
    "    'max_depth' : [4,5,6,7,8],\n",
    "    'criterion' :['gini', 'entropy']\n",
    "    }\n",
    "    grid_search_model = GridSearchCV(rfc, param_grid=param_grid,n_jobs=-1)\n",
    "    grid_search_model.fit(x_train, y_train)\n",
    "    print('Best Parameters are:')\n",
    "    return grid_search_model.best_params_\n",
    "\n",
    "\n",
    "grid_search_random_forrest(X,y)"
   ]
  },
  {
   "cell_type": "code",
   "execution_count": 75,
   "metadata": {},
   "outputs": [
    {
     "name": "stdout",
     "output_type": "stream",
     "text": [
      "Classification Report:\n",
      "             precision    recall  f1-score   support\n",
      "\n",
      "          0       0.96      0.90      0.93     13081\n",
      "          1       0.61      0.83      0.71      2612\n",
      "\n",
      "avg / total       0.91      0.88      0.89     15693\n",
      "\n",
      "Preciion score:\n",
      "0.6147937411095306\n",
      "[[11727  1354]\n",
      " [  451  2161]]\n"
     ]
    }
   ],
   "source": [
    "#Ensembling\n",
    "from sklearn.metrics import confusion_matrix\n",
    "from sklearn.metrics import precision_score\n",
    "from sklearn.ensemble import VotingClassifier\n",
    "\n",
    "\n",
    "def ensemble_func2(dataframe,target):\n",
    "    \n",
    "    x_train,x_val,y_train,y_val = train_test_split(dataframe, target, test_size=0.3, random_state=42)\n",
    "\n",
    "    smote = SMOTE(kind='regular')\n",
    "    X_sm, y_sm =  smote.fit_sample(x_train, y_train)\n",
    "    \n",
    "    \n",
    "    model1 = RandomForestClassifier()\n",
    "    model3 = GradientBoostingClassifier()\n",
    "    model2 = LogisticRegression()\n",
    "    \n",
    "    model = VotingClassifier(estimators=[('rf', model1), ('lr', model2), ('xgb',model3)], voting='soft')\n",
    "    model.fit(X_sm,y_sm)\n",
    "    y_pred = model.predict(x_val)\n",
    "    model.score(x_val,y_val)\n",
    "\n",
    "    print('Classification Report:')\n",
    "    print(classification_report(y_val, y_pred))\n",
    "    print('Preciion score:')\n",
    "    print(precision_score(y_val, y_pred))\n",
    "    print(confusion_matrix(y_val, y_pred))\n",
    "    \n",
    "#     plt.clf()\n",
    "#     plt.plot(false_positive_rate, true_positive_rate)\n",
    "#     plt.xlabel('FPR')\n",
    "#     plt.ylabel('TPR')\n",
    "#     plt.title('ROC curve')\n",
    "#     plt.show()\n",
    "    \n",
    "ensemble_func2(X,y)"
   ]
  },
  {
   "cell_type": "code",
   "execution_count": 82,
   "metadata": {},
   "outputs": [
    {
     "name": "stdout",
     "output_type": "stream",
     "text": [
      "Classification Report:\n",
      "             precision    recall  f1-score   support\n",
      "\n",
      "          0       0.95      0.87      0.91     13081\n",
      "          1       0.53      0.76      0.63      2612\n",
      "\n",
      "avg / total       0.88      0.85      0.86     15693\n",
      "\n",
      "Preciion score:\n",
      "0.5322754168908015\n",
      "[[11342  1739]\n",
      " [  633  1979]]\n"
     ]
    }
   ],
   "source": [
    "#Ensembling\n",
    "from sklearn.metrics import confusion_matrix\n",
    "from sklearn.metrics import precision_score\n",
    "from sklearn.ensemble import VotingClassifier\n",
    "\n",
    "\n",
    "def ensemble_func2(dataframe,target):\n",
    "    \n",
    "    x_train,x_val,y_train,y_val = train_test_split(dataframe, target, test_size=0.3, random_state=42)\n",
    "\n",
    "    smote = SMOTE(kind='regular')\n",
    "    X_sm, y_sm =  smote.fit_sample(x_train, y_train)\n",
    "    \n",
    "    \n",
    "    model1 = RandomForestClassifier()\n",
    "    model3 = GradientBoostingClassifier()\n",
    "    model2 = LogisticRegression()\n",
    "    \n",
    "    model = VotingClassifier(estimators=[('rf', model1), ('lr', model2), ('xgb',model3)], voting='hard')\n",
    "    model.fit(X_sm,y_sm)\n",
    "    y_pred = model.predict(x_val)\n",
    "    model.score(x_val,y_val)\n",
    "\n",
    "    print('Classification Report:')\n",
    "    print(classification_report(y_val, y_pred))\n",
    "    print('Preciion score:')\n",
    "    print(precision_score(y_val, y_pred))\n",
    "    print(confusion_matrix(y_val, y_pred))\n",
    "    \n",
    "#     plt.clf()\n",
    "#     plt.plot(false_positive_rate, true_positive_rate)\n",
    "#     plt.xlabel('FPR')\n",
    "#     plt.ylabel('TPR')\n",
    "#     plt.title('ROC curve')\n",
    "#     plt.show()\n",
    "    \n",
    "ensemble_func2(X,y)"
   ]
  },
  {
   "cell_type": "code",
   "execution_count": null,
   "metadata": {},
   "outputs": [],
   "source": []
  },
  {
   "cell_type": "code",
   "execution_count": 76,
   "metadata": {
    "scrolled": true
   },
   "outputs": [
    {
     "name": "stdout",
     "output_type": "stream",
     "text": [
      "score is: 0.6421117249846532\n",
      "0    20038\n",
      "1     2383\n",
      "Name: Claim, dtype: int64\n"
     ]
    }
   ],
   "source": [
    "def random_forrest(dataframe,target):\n",
    "    \n",
    "    x_train,x_val,y_train,y_val = train_test_split(dataframe,target, test_size=0.3, random_state=42)\n",
    "    \n",
    "    # Applying Smote on train data for dealing with class imbalance\n",
    "    smote = SMOTE(kind='regular')\n",
    "    X_sm, y_sm =  smote.fit_sample(x_train, y_train)\n",
    "    \n",
    "    global rfc\n",
    "    rfc = RandomForestClassifier(n_estimators=500, max_features='auto', max_depth=8, criterion='gini',random_state=42)\n",
    "    rfc.fit(x_train, y_train)\n",
    "    y_pred=rfc.predict(x_val)\n",
    "    precision=precision_score(y_val,y_pred)\n",
    "    return precision\n",
    "\n",
    "#trainning\n",
    "precision = random_forrest(X,y)    \n",
    "print('score is:',precision)\n",
    "\n",
    "#testing function\n",
    "def prediction(test):\n",
    "    y_pred = rfc.predict(test)\n",
    "    \n",
    "    return y_pred\n",
    "\n",
    "test=pd.read_csv('./data/test.csv')\n",
    "\n",
    "# Storing the Id column\n",
    "Id = test[['ID']]\n",
    "\n",
    "# Preprocessed Test File\n",
    "test.drop('ID',1,inplace=True)\n",
    "test.head()\n",
    "#label encoder\n",
    "test = dummyEncode(test)\n",
    "test = test[col]\n",
    "test.head()\n",
    "#predicting on test file\n",
    "y_pred = pd.DataFrame(prediction(test),columns=['Claim']) \n",
    "print(y_pred['Claim'].value_counts())"
   ]
  },
  {
   "cell_type": "code",
   "execution_count": 77,
   "metadata": {},
   "outputs": [
    {
     "name": "stdout",
     "output_type": "stream",
     "text": [
      "score is: 0.8112290008841733\n",
      "0    19223\n",
      "1     3198\n",
      "Name: Claim, dtype: int64\n"
     ]
    }
   ],
   "source": [
    "def random_forrest(dataframe,target):\n",
    "    \n",
    "    x_train,x_val,y_train,y_val = train_test_split(dataframe,target, test_size=0.3, random_state=42)\n",
    "    \n",
    "    # Applying Smote on train data for dealing with class imbalance\n",
    "    smote = SMOTE(kind='regular')\n",
    "    X_sm, y_sm =  smote.fit_sample(x_train, y_train)\n",
    "    \n",
    "    global rfc\n",
    "    rfc = RandomForestClassifier()\n",
    "    rfc.fit(x_train, y_train)\n",
    "    y_pred=rfc.predict(x_val)\n",
    "    precision=precision_score(y_val,y_pred)\n",
    "    return precision\n",
    "\n",
    "#trainning\n",
    "precision = random_forrest(X,y)    \n",
    "print('score is:',precision)\n",
    "\n",
    "#testing function\n",
    "def prediction(test):\n",
    "    y_pred = rfc.predict(test)\n",
    "    \n",
    "    return y_pred\n",
    "\n",
    "test=pd.read_csv('./data/test.csv')\n",
    "\n",
    "# Storing the Id column\n",
    "Id = test[['ID']]\n",
    "\n",
    "# Preprocessed Test File\n",
    "test.drop('ID',1,inplace=True)\n",
    "test.head()\n",
    "#label encoder\n",
    "test = dummyEncode(test)\n",
    "test = test[col]\n",
    "test.head()\n",
    "#predicting on test file\n",
    "y_pred = pd.DataFrame(prediction(test),columns=['Claim']) \n",
    "print(y_pred['Claim'].value_counts())"
   ]
  },
  {
   "cell_type": "code",
   "execution_count": 81,
   "metadata": {},
   "outputs": [
    {
     "data": {
      "text/plain": [
       "0    85.736586\n",
       "1    14.263414\n",
       "Name: Claim, dtype: float64"
      ]
     },
     "execution_count": 81,
     "metadata": {},
     "output_type": "execute_result"
    }
   ],
   "source": [
    "y_pred['Claim'].value_counts()/y_pred['Claim'].value_counts().sum()*100"
   ]
  },
  {
   "cell_type": "code",
   "execution_count": null,
   "metadata": {},
   "outputs": [],
   "source": []
  },
  {
   "cell_type": "code",
   "execution_count": null,
   "metadata": {},
   "outputs": [],
   "source": []
  },
  {
   "cell_type": "code",
   "execution_count": 63,
   "metadata": {},
   "outputs": [
    {
     "name": "stdout",
     "output_type": "stream",
     "text": [
      "0    19220\n",
      "1     3201\n",
      "Name: Claim, dtype: int64\n"
     ]
    }
   ],
   "source": [
    "\n",
    "#predicting on test file\n",
    "y_pred = pd.DataFrame(prediction(test),columns=['Claim']) \n",
    "print(y_pred['Claim'].value_counts())"
   ]
  },
  {
   "cell_type": "code",
   "execution_count": null,
   "metadata": {},
   "outputs": [],
   "source": []
  },
  {
   "cell_type": "code",
   "execution_count": null,
   "metadata": {},
   "outputs": [],
   "source": []
  },
  {
   "cell_type": "code",
   "execution_count": null,
   "metadata": {},
   "outputs": [],
   "source": []
  }
 ],
 "metadata": {
  "kernelspec": {
   "display_name": "Python 3",
   "language": "python",
   "name": "python3"
  },
  "language_info": {
   "codemirror_mode": {
    "name": "ipython",
    "version": 3
   },
   "file_extension": ".py",
   "mimetype": "text/x-python",
   "name": "python",
   "nbconvert_exporter": "python",
   "pygments_lexer": "ipython3",
   "version": "3.7.3"
  }
 },
 "nbformat": 4,
 "nbformat_minor": 2
}
