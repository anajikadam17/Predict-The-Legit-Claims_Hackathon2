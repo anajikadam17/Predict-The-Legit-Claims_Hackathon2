{
 "cells": [
  {
   "cell_type": "markdown",
   "metadata": {},
   "source": [
    "### Problem Description\n",
    "Insurance companies take risks over customers. Risk management is a very important aspect of the insurance industry. Insurers consider every quantifiable factor to develop profiles of high and low insurance risks. Insurers collect vast amounts of information about policyholders and analyze the data.\n",
    "\n",
    "As a Data scientist in an insurance company, you need to analyze the available data and predict whether to sanction the insurance or not.\n",
    "\n",
    "### Dataset Description\n",
    "A zipped file containing train, test and sample submission files are given. The training dataset consists of data corresponding to 52310 customers and the test dataset consists of 22421 customers. Following are the features of the dataset\n",
    "\n",
    "Target: Claim Status (Claim)\n",
    "\n",
    "Name of agency (Agency)\n",
    "\n",
    "Type of travel insurance agencies (Agency.Type)\n",
    "\n",
    "Distribution channel of travel insurance agencies (Distribution.Channel)\n",
    "\n",
    "Name of the travel insurance products (Product.Name)\n",
    "\n",
    "Duration of travel (Duration)\n",
    "\n",
    "Destination of travel (Destination)\n",
    "\n",
    "Amount of sales of travel insurance policies (Net.Sales)\n",
    "\n",
    "The commission received for travel insurance agency (Commission)\n",
    "\n",
    "Age of insured (Age)\n",
    "\n",
    "The identification record of every observation (ID)\n",
    "\n",
    "Evaluation Metric\n",
    "The evaluation metric for this task will be precision_score. Read up about it more here.\n",
    "\n",
    "### Submission Format\n",
    "The user has to submit a csv file with the ID and Claim label. Sample submission file has been given to you. You can refer the sample submission file."
   ]
  },
  {
   "cell_type": "code",
   "execution_count": 1,
   "metadata": {},
   "outputs": [
    {
     "name": "stderr",
     "output_type": "stream",
     "text": [
      "C:\\ProgramData\\Anaconda3\\lib\\site-packages\\sklearn\\ensemble\\weight_boosting.py:29: DeprecationWarning: numpy.core.umath_tests is an internal NumPy module and should not be imported. It will be removed in a future NumPy release.\n",
      "  from numpy.core.umath_tests import inner1d\n"
     ]
    }
   ],
   "source": [
    "import numpy as np\n",
    "import pandas as pd\n",
    "import matplotlib.pyplot as plt\n",
    "import seaborn as sns\n",
    "%matplotlib inline\n",
    "\n",
    "from sklearn.preprocessing import LabelEncoder,MinMaxScaler,StandardScaler\n",
    "from sklearn.linear_model import LogisticRegression\n",
    "from sklearn.tree import DecisionTreeClassifier\n",
    "from sklearn.ensemble import GradientBoostingClassifier ,RandomForestClassifier ,GradientBoostingClassifier\n",
    "from xgboost import XGBClassifier \n",
    "from sklearn.model_selection import GridSearchCV, RandomizedSearchCV\n",
    "\n",
    "from sklearn.metrics import roc_auc_score ,mean_squared_error,accuracy_score,classification_report,roc_curve,confusion_matrix\n",
    "import warnings\n",
    "warnings.filterwarnings('ignore')\n",
    "from sklearn.feature_selection import RFE\n",
    "from sklearn.model_selection import train_test_split\n",
    "pd.set_option('display.max_columns',None)"
   ]
  },
  {
   "cell_type": "code",
   "execution_count": 2,
   "metadata": {},
   "outputs": [
    {
     "name": "stdout",
     "output_type": "stream",
     "text": [
      "Shape of the data is:  (52310, 13)\n"
     ]
    },
    {
     "data": {
      "text/html": [
       "<div>\n",
       "<style scoped>\n",
       "    .dataframe tbody tr th:only-of-type {\n",
       "        vertical-align: middle;\n",
       "    }\n",
       "\n",
       "    .dataframe tbody tr th {\n",
       "        vertical-align: top;\n",
       "    }\n",
       "\n",
       "    .dataframe thead th {\n",
       "        text-align: right;\n",
       "    }\n",
       "</style>\n",
       "<table border=\"1\" class=\"dataframe\">\n",
       "  <thead>\n",
       "    <tr style=\"text-align: right;\">\n",
       "      <th></th>\n",
       "      <th>Unnamed: 0</th>\n",
       "      <th>ID</th>\n",
       "      <th>Agency</th>\n",
       "      <th>Agency Type</th>\n",
       "      <th>Distribution Channel</th>\n",
       "      <th>Product Name</th>\n",
       "      <th>Duration</th>\n",
       "      <th>Destination</th>\n",
       "      <th>Net Sales</th>\n",
       "      <th>Commision (in value)</th>\n",
       "      <th>Age</th>\n",
       "      <th>Claim</th>\n",
       "      <th>Age_type</th>\n",
       "    </tr>\n",
       "  </thead>\n",
       "  <tbody>\n",
       "    <tr>\n",
       "      <th>0</th>\n",
       "      <td>0</td>\n",
       "      <td>2010</td>\n",
       "      <td>EPX</td>\n",
       "      <td>Travel Agency</td>\n",
       "      <td>Online</td>\n",
       "      <td>Cancellation Plan</td>\n",
       "      <td>61</td>\n",
       "      <td>PHILIPPINES</td>\n",
       "      <td>12.0</td>\n",
       "      <td>0.00</td>\n",
       "      <td>41</td>\n",
       "      <td>0</td>\n",
       "      <td>Youth</td>\n",
       "    </tr>\n",
       "    <tr>\n",
       "      <th>1</th>\n",
       "      <td>1</td>\n",
       "      <td>4245</td>\n",
       "      <td>EPX</td>\n",
       "      <td>Travel Agency</td>\n",
       "      <td>Online</td>\n",
       "      <td>Cancellation Plan</td>\n",
       "      <td>4</td>\n",
       "      <td>MALAYSIA</td>\n",
       "      <td>17.0</td>\n",
       "      <td>0.00</td>\n",
       "      <td>35</td>\n",
       "      <td>0</td>\n",
       "      <td>Youth</td>\n",
       "    </tr>\n",
       "    <tr>\n",
       "      <th>2</th>\n",
       "      <td>2</td>\n",
       "      <td>9251</td>\n",
       "      <td>CWT</td>\n",
       "      <td>Travel Agency</td>\n",
       "      <td>Online</td>\n",
       "      <td>Rental Vehicle Excess Insurance</td>\n",
       "      <td>26</td>\n",
       "      <td>THAILAND</td>\n",
       "      <td>19.8</td>\n",
       "      <td>11.88</td>\n",
       "      <td>47</td>\n",
       "      <td>0</td>\n",
       "      <td>Youth</td>\n",
       "    </tr>\n",
       "    <tr>\n",
       "      <th>3</th>\n",
       "      <td>3</td>\n",
       "      <td>4754</td>\n",
       "      <td>EPX</td>\n",
       "      <td>Travel Agency</td>\n",
       "      <td>Online</td>\n",
       "      <td>2 way Comprehensive Plan</td>\n",
       "      <td>15</td>\n",
       "      <td>HONG KONG</td>\n",
       "      <td>27.0</td>\n",
       "      <td>0.00</td>\n",
       "      <td>48</td>\n",
       "      <td>0</td>\n",
       "      <td>Youth</td>\n",
       "    </tr>\n",
       "    <tr>\n",
       "      <th>4</th>\n",
       "      <td>4</td>\n",
       "      <td>8840</td>\n",
       "      <td>EPX</td>\n",
       "      <td>Travel Agency</td>\n",
       "      <td>Online</td>\n",
       "      <td>2 way Comprehensive Plan</td>\n",
       "      <td>15</td>\n",
       "      <td>MALAYSIA</td>\n",
       "      <td>37.0</td>\n",
       "      <td>0.00</td>\n",
       "      <td>36</td>\n",
       "      <td>0</td>\n",
       "      <td>Youth</td>\n",
       "    </tr>\n",
       "  </tbody>\n",
       "</table>\n",
       "</div>"
      ],
      "text/plain": [
       "   Unnamed: 0    ID Agency    Agency Type Distribution Channel  \\\n",
       "0           0  2010    EPX  Travel Agency               Online   \n",
       "1           1  4245    EPX  Travel Agency               Online   \n",
       "2           2  9251    CWT  Travel Agency               Online   \n",
       "3           3  4754    EPX  Travel Agency               Online   \n",
       "4           4  8840    EPX  Travel Agency               Online   \n",
       "\n",
       "                      Product Name  Duration  Destination  Net Sales  \\\n",
       "0                Cancellation Plan        61  PHILIPPINES       12.0   \n",
       "1                Cancellation Plan         4     MALAYSIA       17.0   \n",
       "2  Rental Vehicle Excess Insurance        26     THAILAND       19.8   \n",
       "3         2 way Comprehensive Plan        15    HONG KONG       27.0   \n",
       "4         2 way Comprehensive Plan        15     MALAYSIA       37.0   \n",
       "\n",
       "   Commision (in value)  Age  Claim Age_type  \n",
       "0                  0.00   41      0    Youth  \n",
       "1                  0.00   35      0    Youth  \n",
       "2                 11.88   47      0    Youth  \n",
       "3                  0.00   48      0    Youth  \n",
       "4                  0.00   36      0    Youth  "
      ]
     },
     "execution_count": 2,
     "metadata": {},
     "output_type": "execute_result"
    }
   ],
   "source": [
    "path = 'CleanedData.csv'\n",
    "\n",
    "# Load the dataframe\n",
    "data = pd.read_csv(path,delimiter=',')\n",
    "\n",
    "# Remove the Id column from the dataset\n",
    "# data.drop('Id',axis=1,inplace=True)\n",
    "\n",
    "print('Shape of the data is: ',data.shape)\n",
    "\n",
    "data.head()"
   ]
  },
  {
   "cell_type": "code",
   "execution_count": 3,
   "metadata": {},
   "outputs": [],
   "source": [
    "data.drop(['Unnamed: 0','ID','Age'],1, inplace = True)"
   ]
  },
  {
   "cell_type": "code",
   "execution_count": 4,
   "metadata": {},
   "outputs": [],
   "source": [
    "col = data.columns.tolist()\n",
    "col.remove('Claim')\n",
    "col.append('Claim')\n",
    "data = data[col]"
   ]
  },
  {
   "cell_type": "code",
   "execution_count": 5,
   "metadata": {
    "scrolled": true
   },
   "outputs": [
    {
     "data": {
      "text/html": [
       "<div>\n",
       "<style scoped>\n",
       "    .dataframe tbody tr th:only-of-type {\n",
       "        vertical-align: middle;\n",
       "    }\n",
       "\n",
       "    .dataframe tbody tr th {\n",
       "        vertical-align: top;\n",
       "    }\n",
       "\n",
       "    .dataframe thead th {\n",
       "        text-align: right;\n",
       "    }\n",
       "</style>\n",
       "<table border=\"1\" class=\"dataframe\">\n",
       "  <thead>\n",
       "    <tr style=\"text-align: right;\">\n",
       "      <th></th>\n",
       "      <th>Agency</th>\n",
       "      <th>Agency Type</th>\n",
       "      <th>Distribution Channel</th>\n",
       "      <th>Product Name</th>\n",
       "      <th>Duration</th>\n",
       "      <th>Destination</th>\n",
       "      <th>Net Sales</th>\n",
       "      <th>Commision (in value)</th>\n",
       "      <th>Age_type</th>\n",
       "      <th>Claim</th>\n",
       "    </tr>\n",
       "  </thead>\n",
       "  <tbody>\n",
       "    <tr>\n",
       "      <th>0</th>\n",
       "      <td>EPX</td>\n",
       "      <td>Travel Agency</td>\n",
       "      <td>Online</td>\n",
       "      <td>Cancellation Plan</td>\n",
       "      <td>61</td>\n",
       "      <td>PHILIPPINES</td>\n",
       "      <td>12.0</td>\n",
       "      <td>0.00</td>\n",
       "      <td>Youth</td>\n",
       "      <td>0</td>\n",
       "    </tr>\n",
       "    <tr>\n",
       "      <th>1</th>\n",
       "      <td>EPX</td>\n",
       "      <td>Travel Agency</td>\n",
       "      <td>Online</td>\n",
       "      <td>Cancellation Plan</td>\n",
       "      <td>4</td>\n",
       "      <td>MALAYSIA</td>\n",
       "      <td>17.0</td>\n",
       "      <td>0.00</td>\n",
       "      <td>Youth</td>\n",
       "      <td>0</td>\n",
       "    </tr>\n",
       "    <tr>\n",
       "      <th>2</th>\n",
       "      <td>CWT</td>\n",
       "      <td>Travel Agency</td>\n",
       "      <td>Online</td>\n",
       "      <td>Rental Vehicle Excess Insurance</td>\n",
       "      <td>26</td>\n",
       "      <td>THAILAND</td>\n",
       "      <td>19.8</td>\n",
       "      <td>11.88</td>\n",
       "      <td>Youth</td>\n",
       "      <td>0</td>\n",
       "    </tr>\n",
       "    <tr>\n",
       "      <th>3</th>\n",
       "      <td>EPX</td>\n",
       "      <td>Travel Agency</td>\n",
       "      <td>Online</td>\n",
       "      <td>2 way Comprehensive Plan</td>\n",
       "      <td>15</td>\n",
       "      <td>HONG KONG</td>\n",
       "      <td>27.0</td>\n",
       "      <td>0.00</td>\n",
       "      <td>Youth</td>\n",
       "      <td>0</td>\n",
       "    </tr>\n",
       "    <tr>\n",
       "      <th>4</th>\n",
       "      <td>EPX</td>\n",
       "      <td>Travel Agency</td>\n",
       "      <td>Online</td>\n",
       "      <td>2 way Comprehensive Plan</td>\n",
       "      <td>15</td>\n",
       "      <td>MALAYSIA</td>\n",
       "      <td>37.0</td>\n",
       "      <td>0.00</td>\n",
       "      <td>Youth</td>\n",
       "      <td>0</td>\n",
       "    </tr>\n",
       "  </tbody>\n",
       "</table>\n",
       "</div>"
      ],
      "text/plain": [
       "  Agency    Agency Type Distribution Channel                     Product Name  \\\n",
       "0    EPX  Travel Agency               Online                Cancellation Plan   \n",
       "1    EPX  Travel Agency               Online                Cancellation Plan   \n",
       "2    CWT  Travel Agency               Online  Rental Vehicle Excess Insurance   \n",
       "3    EPX  Travel Agency               Online         2 way Comprehensive Plan   \n",
       "4    EPX  Travel Agency               Online         2 way Comprehensive Plan   \n",
       "\n",
       "   Duration  Destination  Net Sales  Commision (in value) Age_type  Claim  \n",
       "0        61  PHILIPPINES       12.0                  0.00    Youth      0  \n",
       "1         4     MALAYSIA       17.0                  0.00    Youth      0  \n",
       "2        26     THAILAND       19.8                 11.88    Youth      0  \n",
       "3        15    HONG KONG       27.0                  0.00    Youth      0  \n",
       "4        15     MALAYSIA       37.0                  0.00    Youth      0  "
      ]
     },
     "execution_count": 5,
     "metadata": {},
     "output_type": "execute_result"
    }
   ],
   "source": [
    "data.head()"
   ]
  },
  {
   "cell_type": "code",
   "execution_count": 17,
   "metadata": {
    "scrolled": true
   },
   "outputs": [
    {
     "data": {
      "text/plain": [
       "0    83.330147\n",
       "1    16.669853\n",
       "Name: Claim, dtype: float64"
      ]
     },
     "execution_count": 17,
     "metadata": {},
     "output_type": "execute_result"
    }
   ],
   "source": [
    "#Check for Class Imbalance\n",
    "def class_imbalance(target):\n",
    "    class_values = (target.value_counts()/target.value_counts().sum())*100\n",
    "    return class_values\n",
    "\n",
    "class_imbalance(data['Claim'])"
   ]
  },
  {
   "cell_type": "code",
   "execution_count": 18,
   "metadata": {},
   "outputs": [
    {
     "data": {
      "text/plain": [
       "0    0.833301\n",
       "1    0.166699\n",
       "Name: Claim, dtype: float64"
      ]
     },
     "execution_count": 18,
     "metadata": {},
     "output_type": "execute_result"
    }
   ],
   "source": [
    "data['Claim'].value_counts()/data['Claim'].value_counts().sum()"
   ]
  },
  {
   "cell_type": "code",
   "execution_count": 19,
   "metadata": {},
   "outputs": [],
   "source": [
    "le = LabelEncoder()\n",
    "# Function that auto encodes any dataframe column of type category or object.\n",
    "def dummyEncode(dataset):\n",
    "        \n",
    "        columnsToEncode = list(dataset.select_dtypes(include=['category','object']))\n",
    "        le = LabelEncoder()\n",
    "        for feature in columnsToEncode:\n",
    "            try:\n",
    "                dataset[feature] = le.fit_transform(dataset[feature])\n",
    "            except:\n",
    "                print('Error encoding '+feature)\n",
    "        return dataset\n",
    "data = dummyEncode(data)\n"
   ]
  },
  {
   "cell_type": "code",
   "execution_count": 20,
   "metadata": {},
   "outputs": [],
   "source": [
    "# Predictors\n",
    "X = data.iloc[:,:-1]\n",
    "\n",
    "# Target\n",
    "y = data.iloc[:,-1]"
   ]
  },
  {
   "cell_type": "code",
   "execution_count": 21,
   "metadata": {},
   "outputs": [
    {
     "name": "stdout",
     "output_type": "stream",
     "text": [
      "4 : ['Claim', 'Net Sales', 'Commision (in value)', 'Duration']\n",
      "5 : ['Claim', 'Net Sales', 'Commision (in value)', 'Duration', 'Destination']\n",
      "6 : ['Claim', 'Net Sales', 'Commision (in value)', 'Duration', 'Destination', 'Age_type']\n",
      "7 : ['Claim', 'Net Sales', 'Commision (in value)', 'Duration', 'Destination', 'Age_type', 'Distribution Channel']\n",
      "8 : ['Claim', 'Net Sales', 'Commision (in value)', 'Duration', 'Destination', 'Age_type', 'Distribution Channel', 'Product Name']\n",
      "9 : ['Claim', 'Net Sales', 'Commision (in value)', 'Duration', 'Destination', 'Age_type', 'Distribution Channel', 'Product Name', 'Agency Type']\n",
      "10 : ['Claim', 'Net Sales', 'Commision (in value)', 'Duration', 'Destination', 'Age_type', 'Distribution Channel', 'Product Name', 'Agency Type', 'Agency']\n"
     ]
    }
   ],
   "source": [
    "# Find features with correlation nlargest\n",
    "for k in range(4,11):\n",
    "    cols=data.corr().nlargest(k,'Claim')['Claim'].index\n",
    "    print(len(cols.tolist()),':',cols.tolist())"
   ]
  },
  {
   "cell_type": "code",
   "execution_count": 22,
   "metadata": {},
   "outputs": [
    {
     "name": "stdout",
     "output_type": "stream",
     "text": [
      "Features  to be selected for Logistic Regression are:\n",
      "['Agency', 'Agency Type', 'Distribution Channel', 'Product Name', 'Age_type']\n",
      "========================================================================================================================\n",
      "Features  to be selected for Random Forest are:\n",
      "['Agency', 'Duration', 'Destination', 'Net Sales', 'Commision (in value)']\n",
      "========================================================================================================================\n",
      "Features  to be selected for XGBoost are:\n",
      "['Agency', 'Product Name', 'Destination', 'Net Sales', 'Commision (in value)']\n",
      "========================================================================================================================\n"
     ]
    }
   ],
   "source": [
    "def feature_selection(predictors,target,number_of_features,model):\n",
    "\n",
    "    models = model()\n",
    "    rfe = RFE(models,number_of_features)\n",
    "    rfe = rfe.fit(X,y)\n",
    "    feature_ranking = pd.Series(rfe.ranking_, index=X.columns)\n",
    "    plt.show()\n",
    "    print('Features  to be selected for {} are:'.format(str(i[0])))\n",
    "    print(feature_ranking[feature_ranking.values==1].index.tolist())\n",
    "    print('===='*30)\n",
    "\n",
    "# Choosing the models. If you want to specify additional models, kindly specify them as a key-value pair as shown below.\n",
    "models = {'Logistic Regression':LogisticRegression,'Random Forest':RandomForestClassifier,'XGBoost':XGBClassifier}\n",
    "\n",
    "# Selecting 8 number of features\n",
    "for i in models.items():\n",
    "    feature_selection(X,y,5,i[1])\n",
    "    \n"
   ]
  },
  {
   "cell_type": "code",
   "execution_count": 23,
   "metadata": {},
   "outputs": [
    {
     "data": {
      "image/png": "[encoded data removed]",
      "text/plain": [
       "<Figure size 720x432 with 2 Axes>"
      ]
     },
     "metadata": {
      "needs_background": "light"
     },
     "output_type": "display_data"
    }
   ],
   "source": [
    "k=10\n",
    "cols=data.corr().nlargest(k,'Claim')['Claim'].index\n",
    "cm = data[cols].corr()\n",
    "plt.figure(figsize=(10, 6))\n",
    "sns.heatmap(cm, annot=True, cmap='viridis')\n",
    "plt.show()"
   ]
  },
  {
   "cell_type": "code",
   "execution_count": 24,
   "metadata": {
    "scrolled": true
   },
   "outputs": [
    {
     "name": "stdout",
     "output_type": "stream",
     "text": [
      "On Model -  Logistic Regression\n",
      "Classification Report:\n",
      "             precision    recall  f1-score   support\n",
      "\n",
      "          0       0.86      0.97      0.91      8696\n",
      "          1       0.60      0.21      0.31      1766\n",
      "\n",
      "avg / total       0.81      0.84      0.81     10462\n",
      "\n",
      "AUC Score = 58.89 %\n",
      "================================================================================\n",
      "On Model -  Decision Tree\n",
      "Classification Report:\n",
      "             precision    recall  f1-score   support\n",
      "\n",
      "          0       0.95      0.95      0.95      8696\n",
      "          1       0.76      0.74      0.75      1766\n",
      "\n",
      "avg / total       0.92      0.92      0.92     10462\n",
      "\n",
      "AUC Score = 84.43 %\n",
      "================================================================================\n",
      "On Model -  Random Forest\n",
      "Classification Report:\n",
      "             precision    recall  f1-score   support\n",
      "\n",
      "          0       0.95      0.96      0.96      8696\n",
      "          1       0.81      0.74      0.77      1766\n",
      "\n",
      "avg / total       0.92      0.93      0.92     10462\n",
      "\n",
      "AUC Score = 85.22 %\n",
      "================================================================================\n",
      "On Model -  XGBoost\n",
      "Classification Report:\n",
      "             precision    recall  f1-score   support\n",
      "\n",
      "          0       0.88      0.95      0.92      8696\n",
      "          1       0.62      0.36      0.45      1766\n",
      "\n",
      "avg / total       0.84      0.85      0.84     10462\n",
      "\n",
      "AUC Score = 65.68 %\n",
      "================================================================================\n",
      "On Model -  Gradient Boosting\n",
      "Classification Report:\n",
      "             precision    recall  f1-score   support\n",
      "\n",
      "          0       0.89      0.96      0.92      8696\n",
      "          1       0.64      0.40      0.49      1766\n",
      "\n",
      "avg / total       0.85      0.86      0.85     10462\n",
      "\n",
      "AUC Score = 67.60 %\n",
      "================================================================================\n"
     ]
    }
   ],
   "source": [
    "def run_model(predictors,target, model):\n",
    "    '''\n",
    "    Performs model training and tests using ROC-AUC \n",
    "    returns AUC score\n",
    "    '''\n",
    "    x_train,x_val,y_train,y_val = train_test_split(predictors,target,test_size=0.2,random_state=42)\n",
    "    model.fit(x_train, y_train)\n",
    "    y_scores = model.predict(x_val)\n",
    "    auc = roc_auc_score(y_val, y_scores)\n",
    "\n",
    "    print('Classification Report:')\n",
    "    print(classification_report(y_val,y_scores))\n",
    "    print('AUC Score = %.2f' %(auc*100) +' %')\n",
    "    print('===='*20)\n",
    "\n",
    "# Choosing the models. If you want to specify additional models, kindly specify them as a key-value pair as shown below.\n",
    "models = {'Logistic Regression':LogisticRegression,'Decision Tree':DecisionTreeClassifier,'Random Forest': RandomForestClassifier,'XGBoost':XGBClassifier,'Gradient Boosting':GradientBoostingClassifier}\n",
    "\n",
    "for i in models.items():\n",
    "    # run model\n",
    "    model = i[1]()\n",
    "    print('On Model -  '+str(i[0]))\n",
    "    run_model(X, y, model) # train and returns AUC test score"
   ]
  },
  {
   "cell_type": "code",
   "execution_count": 25,
   "metadata": {},
   "outputs": [
    {
     "data": {
      "image/png": "[encoded data removed]",
      "text/plain": [
       "<Figure size 432x288 with 1 Axes>"
      ]
     },
     "metadata": {
      "needs_background": "light"
     },
     "output_type": "display_data"
    },
    {
     "name": "stdout",
     "output_type": "stream",
     "text": [
      "Index(['Destination', 'Agency', 'Commision (in value)', 'Duration',\n",
      "       'Net Sales'],\n",
      "      dtype='object')\n"
     ]
    }
   ],
   "source": [
    "def rfc_feature_selection(dataset,target):\n",
    "    X_train, X_test, y_train, y_test = train_test_split(dataset, target, test_size=0.3, random_state=42, stratify=target)\n",
    "    rfc = RandomForestClassifier(random_state=42)\n",
    "    rfc.fit(X_train, y_train)\n",
    "    y_pred = rfc.predict(X_test)\n",
    "    rfc_importances = pd.Series(rfc.feature_importances_, index=dataset.columns).sort_values().tail(5)\n",
    "    rfc_importances.plot(kind='bar')\n",
    "    plt.show()\n",
    "    print(rfc_importances.index)\n",
    "\n",
    "rfc_feature_selection(X,y)"
   ]
  },
  {
   "cell_type": "code",
   "execution_count": 26,
   "metadata": {
    "scrolled": true
   },
   "outputs": [
    {
     "name": "stdout",
     "output_type": "stream",
     "text": [
      "Best Parameters are:\n"
     ]
    },
    {
     "data": {
      "text/plain": [
       "{'criterion': 'gini', 'max_depth': 8, 'max_features': 'auto'}"
      ]
     },
     "execution_count": 26,
     "metadata": {},
     "output_type": "execute_result"
    }
   ],
   "source": [
    "#Grid Search for Random Forest\n",
    "def grid_search_random_forrest(dataframe,target):\n",
    "\n",
    "    x_train,x_val,y_train,y_val = train_test_split(X,y, test_size=0.3, random_state=42, stratify=y)\n",
    "    rfc = RandomForestClassifier()\n",
    "    param_grid = { \n",
    "    'max_features': ['auto', 'sqrt', 'log2'],\n",
    "    'max_depth' : [4,5,6,7,8],\n",
    "    'criterion' :['gini', 'entropy']\n",
    "    }\n",
    "    grid_search_model = GridSearchCV(rfc, param_grid=param_grid)\n",
    "    grid_search_model.fit(x_train, y_train)\n",
    "    print('Best Parameters are:')\n",
    "    return grid_search_model.best_params_\n",
    "\n",
    "\n",
    "grid_search_random_forrest(X,y)"
   ]
  },
  {
   "cell_type": "code",
   "execution_count": 38,
   "metadata": {
    "scrolled": true
   },
   "outputs": [
    {
     "name": "stdout",
     "output_type": "stream",
     "text": [
      "On Validation data\n",
      "ROC_AUC_SCORE is 0.8292479196356124\n",
      "             precision    recall  f1-score   support\n",
      "\n",
      "          0       0.96      0.81      0.88     13081\n",
      "          1       0.47      0.85      0.61      2612\n",
      "\n",
      "avg / total       0.88      0.82      0.84     15693\n",
      "\n"
     ]
    },
    {
     "data": {
      "image/png": "[encoded data removed]",
      "text/plain": [
       "<Figure size 432x288 with 1 Axes>"
      ]
     },
     "metadata": {
      "needs_background": "light"
     },
     "output_type": "display_data"
    }
   ],
   "source": [
    "from sklearn.metrics import roc_auc_score,roc_curve,classification_report\n",
    "from sklearn.model_selection import cross_val_score\n",
    "from imblearn import under_sampling, over_sampling\n",
    "from imblearn.over_sampling import SMOTE\n",
    "\n",
    "\n",
    "def grid_search_random_forrest_best(dataframe,target):\n",
    "    \n",
    "    \n",
    "    x_train,x_val,y_train,y_val = train_test_split(dataframe,target, test_size=0.3, random_state=42)\n",
    "    \n",
    "    # Applying Smote on train data for dealing with class imbalance\n",
    "    smote = SMOTE(kind='regular')\n",
    "    X_sm, y_sm =  smote.fit_sample(x_train, y_train)\n",
    "    \n",
    "    \n",
    "    rfc = RandomForestClassifier(n_estimators=11, max_features='log2', max_depth=8, criterion='gini',random_state=42)\n",
    "    rfc.fit(X_sm, y_sm)\n",
    "    y_pred = rfc.predict(x_val)\n",
    "\n",
    "    false_positive_rate, true_positive_rate, thresholds = roc_curve(y_val, y_pred)\n",
    "    print('On Validation data')\n",
    "    print('ROC_AUC_SCORE is',roc_auc_score(y_val, y_pred))\n",
    "    print(classification_report(y_val, y_pred))\n",
    "    #fpr, tpr, _ = roc_curve(y_test, predictions[:,1])\n",
    "    plt.clf()\n",
    "    plt.plot(false_positive_rate, true_positive_rate)\n",
    "    plt.xlabel('FPR')\n",
    "    plt.ylabel('TPR')\n",
    "    plt.title('ROC curve')\n",
    "    plt.show()\n",
    "    \n",
    "    \n",
    "\n",
    "\n",
    "\n",
    "grid_search_random_forrest_best(X,y)"
   ]
  },
  {
   "cell_type": "code",
   "execution_count": 39,
   "metadata": {},
   "outputs": [
    {
     "name": "stdout",
     "output_type": "stream",
     "text": [
      "On Validation data\n",
      "ROC_AUC_SCORE is 0.8154493974579171\n",
      "             precision    recall  f1-score   support\n",
      "\n",
      "          0       0.95      0.83      0.89     13081\n",
      "          1       0.49      0.80      0.60      2612\n",
      "\n",
      "avg / total       0.88      0.83      0.84     15693\n",
      "\n"
     ]
    },
    {
     "data": {
      "image/png": "[encoded data removed]",
      "text/plain": [
       "<Figure size 432x288 with 1 Axes>"
      ]
     },
     "metadata": {
      "needs_background": "light"
     },
     "output_type": "display_data"
    }
   ],
   "source": [
    "grid_search_random_forrest_best(X[['Destination', 'Agency', 'Commision (in value)', 'Duration',\n",
    "       'Net Sales']],y)     # Applying the grid search function for random forest only on the best features obtained using Random Forest"
   ]
  },
  {
   "cell_type": "code",
   "execution_count": 40,
   "metadata": {
    "scrolled": true
   },
   "outputs": [
    {
     "name": "stdout",
     "output_type": "stream",
     "text": [
      "On Validation data\n",
      "ROC_AUC_SCORE is 0.8130807772937451\n",
      "             precision    recall  f1-score   support\n",
      "\n",
      "          0       0.95      0.83      0.88     13081\n",
      "          1       0.48      0.80      0.60      2612\n",
      "\n",
      "avg / total       0.87      0.82      0.84     15693\n",
      "\n"
     ]
    },
    {
     "data": {
      "image/png": "[encoded data removed]",
      "text/plain": [
       "<Figure size 432x288 with 1 Axes>"
      ]
     },
     "metadata": {
      "needs_background": "light"
     },
     "output_type": "display_data"
    }
   ],
   "source": [
    "grid_search_random_forrest_best(X[['Agency', 'Duration', 'Destination', 'Net Sales', 'Commision (in value)']],y)     # Applying the grid search function for random forest only on the best features obtained using RFE"
   ]
  },
  {
   "cell_type": "markdown",
   "metadata": {},
   "source": [
    "Using Grid Search for Logistic Regression"
   ]
  },
  {
   "cell_type": "code",
   "execution_count": 41,
   "metadata": {},
   "outputs": [
    {
     "name": "stdout",
     "output_type": "stream",
     "text": [
      "On Validation Data\n",
      "ROC_AUC_SCORE is  0.7447438758598357\n",
      "             precision    recall  f1-score   support\n",
      "\n",
      "          0       0.93      0.82      0.87     13081\n",
      "          1       0.43      0.67      0.52      2612\n",
      "\n",
      "avg / total       0.84      0.80      0.81     15693\n",
      "\n"
     ]
    },
    {
     "data": {
      "image/png": "[encoded data removed]",
      "text/plain": [
       "<Figure size 432x288 with 1 Axes>"
      ]
     },
     "metadata": {
      "needs_background": "light"
     },
     "output_type": "display_data"
    }
   ],
   "source": [
    "def grid_search_log_reg(dataframe,target):\n",
    "    \n",
    "    \n",
    "    x_train,x_val,y_train,y_val = train_test_split(dataframe, target, test_size=0.3, random_state=42)\n",
    "\n",
    "    smote = SMOTE(kind='regular')\n",
    "    X_sm, y_sm =  smote.fit_sample(x_train, y_train)\n",
    "    \n",
    "    \n",
    "    log_reg = LogisticRegression()\n",
    "    \n",
    "    param_grid = { \n",
    "        'C' : np.logspace(-5, 8, 15)\n",
    "    }\n",
    "    grid_search = GridSearchCV(log_reg, param_grid=param_grid)\n",
    "    \n",
    "    grid_search.fit(X_sm, y_sm)\n",
    "    y_pred = grid_search.predict(x_val)\n",
    "    false_positive_rate, true_positive_rate, thresholds = roc_curve(y_val, y_pred)\n",
    "    print('On Validation Data')\n",
    "    print('ROC_AUC_SCORE is ',roc_auc_score(y_val, y_pred))\n",
    "    print(classification_report(y_val, y_pred))\n",
    "    plt.clf()\n",
    "    plt.plot(false_positive_rate, true_positive_rate)\n",
    "    plt.xlabel('FPR')\n",
    "    plt.ylabel('TPR')\n",
    "    plt.title('ROC curve')\n",
    "    plt.show()\n",
    "    \n",
    "\n",
    "grid_search_log_reg(X,y)"
   ]
  },
  {
   "cell_type": "code",
   "execution_count": 42,
   "metadata": {},
   "outputs": [
    {
     "name": "stdout",
     "output_type": "stream",
     "text": [
      "On Validation Data\n",
      "ROC_AUC_SCORE is  0.8133991639792256\n",
      "Classification Report:\n",
      "             precision    recall  f1-score   support\n",
      "\n",
      "          0       0.96      0.81      0.88     13081\n",
      "          1       0.46      0.82      0.59      2612\n",
      "\n",
      "avg / total       0.87      0.81      0.83     15693\n",
      "\n",
      "[[10598  2483]\n",
      " [  479  2133]]\n"
     ]
    },
    {
     "data": {
      "image/png": "[encoded data removed]",
      "text/plain": [
       "<Figure size 432x288 with 1 Axes>"
      ]
     },
     "metadata": {
      "needs_background": "light"
     },
     "output_type": "display_data"
    }
   ],
   "source": [
    "#Applying XGBoost model\n",
    "def xgboost(dataframe,target):\n",
    "    X = dataframe\n",
    "    y = target\n",
    "\n",
    "    x_train,x_val,y_train,y_val = train_test_split(X, y, test_size=0.3, random_state=42)\n",
    "\n",
    "    smote = SMOTE(kind='regular')\n",
    "    X_sm, y_sm =  smote.fit_sample(x_train, y_train)\n",
    "\n",
    "    model = XGBClassifier(n_estimators=50, max_depth=4)\n",
    "    model.fit(pd.DataFrame(X_sm,columns=x_train.columns), y_sm)\n",
    "    y_pred = model.predict(x_val)\n",
    "    \n",
    "    print('On Validation Data')\n",
    "    print('ROC_AUC_SCORE is ', roc_auc_score(y_val, y_pred))\n",
    "    print('Classification Report:')\n",
    "    print(classification_report(y_val, y_pred))\n",
    "    false_positive_rate, true_positive_rate, thresholds = roc_curve(y_val, y_pred)\n",
    "    #     print(auc(false_positive_rate, true_positive_rate))\n",
    "    \n",
    "    \n",
    "    plt.clf()\n",
    "    plt.plot(false_positive_rate, true_positive_rate)\n",
    "    print(confusion_matrix(y_val,y_pred))\n",
    "    plt.xlabel('FPR')\n",
    "    plt.ylabel('TPR')\n",
    "    plt.title('ROC curve')\n",
    "    plt.show()\n",
    "    \n",
    "xgboost(X,y)"
   ]
  },
  {
   "cell_type": "code",
   "execution_count": 47,
   "metadata": {},
   "outputs": [
    {
     "name": "stdout",
     "output_type": "stream",
     "text": [
      "On Validation Data\n",
      "AUC_ROC_SCORE is (After Ensembling)  0.8665447167273109\n",
      "Classification Report:\n",
      "             precision    recall  f1-score   support\n",
      "\n",
      "          0       0.96      0.90      0.93     13081\n",
      "          1       0.62      0.84      0.71      2612\n",
      "\n",
      "avg / total       0.91      0.89      0.89     15693\n",
      "\n",
      "[[11743  1338]\n",
      " [  430  2182]]\n"
     ]
    },
    {
     "data": {
      "image/png": "[encoded data removed]",
      "text/plain": [
       "<Figure size 432x288 with 1 Axes>"
      ]
     },
     "metadata": {
      "needs_background": "light"
     },
     "output_type": "display_data"
    }
   ],
   "source": [
    "#Ensembling\n",
    "from sklearn.metrics import confusion_matrix\n",
    "from sklearn.ensemble import VotingClassifier\n",
    "\n",
    "\n",
    "def ensemble_func2(dataframe,target):\n",
    "    \n",
    "    x_train,x_val,y_train,y_val = train_test_split(dataframe, target, test_size=0.3, random_state=42)\n",
    "\n",
    "    smote = SMOTE(kind='regular')\n",
    "    X_sm, y_sm =  smote.fit_sample(x_train, y_train)\n",
    "    \n",
    "    \n",
    "    model1 = RandomForestClassifier()\n",
    "    model3 = GradientBoostingClassifier()\n",
    "    model2 = LogisticRegression()\n",
    "    \n",
    "    model = VotingClassifier(estimators=[('rf', model1), ('lr', model2), ('xgb',model3)], voting='soft')\n",
    "    model.fit(X_sm,y_sm)\n",
    "    y_pred = model.predict(x_val)\n",
    "    model.score(x_val,y_val)\n",
    "\n",
    "        \n",
    "    false_positive_rate, true_positive_rate, thresholds = roc_curve(y_val, y_pred)\n",
    "    print('On Validation Data')\n",
    "    print('AUC_ROC_SCORE is (After Ensembling) ',roc_auc_score(y_val, y_pred))\n",
    "    print('Classification Report:')\n",
    "    print(classification_report(y_val, y_pred))\n",
    "    print(confusion_matrix(y_val, y_pred))\n",
    "    \n",
    "    plt.clf()\n",
    "    plt.plot(false_positive_rate, true_positive_rate)\n",
    "    plt.xlabel('FPR')\n",
    "    plt.ylabel('TPR')\n",
    "    plt.title('ROC curve')\n",
    "    plt.show()\n",
    "    \n",
    "ensemble_func2(X,y)"
   ]
  },
  {
   "cell_type": "code",
   "execution_count": 50,
   "metadata": {
    "scrolled": true
   },
   "outputs": [
    {
     "data": {
      "text/html": [
       "<div>\n",
       "<style scoped>\n",
       "    .dataframe tbody tr th:only-of-type {\n",
       "        vertical-align: middle;\n",
       "    }\n",
       "\n",
       "    .dataframe tbody tr th {\n",
       "        vertical-align: top;\n",
       "    }\n",
       "\n",
       "    .dataframe thead th {\n",
       "        text-align: right;\n",
       "    }\n",
       "</style>\n",
       "<table border=\"1\" class=\"dataframe\">\n",
       "  <thead>\n",
       "    <tr style=\"text-align: right;\">\n",
       "      <th></th>\n",
       "      <th>ID</th>\n",
       "      <th>Claim</th>\n",
       "    </tr>\n",
       "  </thead>\n",
       "  <tbody>\n",
       "    <tr>\n",
       "      <th>0</th>\n",
       "      <td>17631</td>\n",
       "      <td>1</td>\n",
       "    </tr>\n",
       "    <tr>\n",
       "      <th>1</th>\n",
       "      <td>15064</td>\n",
       "      <td>1</td>\n",
       "    </tr>\n",
       "    <tr>\n",
       "      <th>2</th>\n",
       "      <td>14139</td>\n",
       "      <td>1</td>\n",
       "    </tr>\n",
       "    <tr>\n",
       "      <th>3</th>\n",
       "      <td>19754</td>\n",
       "      <td>1</td>\n",
       "    </tr>\n",
       "    <tr>\n",
       "      <th>4</th>\n",
       "      <td>16439</td>\n",
       "      <td>1</td>\n",
       "    </tr>\n",
       "  </tbody>\n",
       "</table>\n",
       "</div>"
      ],
      "text/plain": [
       "      ID  Claim\n",
       "0  17631      1\n",
       "1  15064      1\n",
       "2  14139      1\n",
       "3  19754      1\n",
       "4  16439      1"
      ]
     },
     "execution_count": 50,
     "metadata": {},
     "output_type": "execute_result"
    }
   ],
   "source": [
    "# Actual Test File\n",
    "test = pd.read_csv('./data/test.csv')\n",
    "\n",
    "# Storing the Id column\n",
    "Id = test[['ID']]\n",
    "\n",
    "# Preprocessed Test File\n",
    "test = pd.read_csv('./data/sample_submission.csv')\n",
    "# test.drop('ID',1,inplace=True)\n",
    "test.head()"
   ]
  },
  {
   "cell_type": "code",
   "execution_count": 52,
   "metadata": {},
   "outputs": [
    {
     "ename": "ValueError",
     "evalue": "X has 2 features per sample; expecting 9",
     "output_type": "error",
     "traceback": [
      "\u001b[1;31m---------------------------------------------------------------------------\u001b[0m",
      "\u001b[1;31mValueError\u001b[0m                                Traceback (most recent call last)",
      "\u001b[1;32m<ipython-input-52-38073c990b7f>\u001b[0m in \u001b[0;36m<module>\u001b[1;34m\u001b[0m\n\u001b[0;32m     21\u001b[0m     \u001b[1;32mreturn\u001b[0m \u001b[0my_pred\u001b[0m\u001b[1;33m\u001b[0m\u001b[1;33m\u001b[0m\u001b[0m\n\u001b[0;32m     22\u001b[0m \u001b[1;33m\u001b[0m\u001b[0m\n\u001b[1;32m---> 23\u001b[1;33m \u001b[0my_pred\u001b[0m \u001b[1;33m=\u001b[0m \u001b[0mgrid_search_log_reg\u001b[0m\u001b[1;33m(\u001b[0m\u001b[0mX\u001b[0m\u001b[1;33m,\u001b[0m\u001b[0my\u001b[0m\u001b[1;33m)\u001b[0m\u001b[1;33m\u001b[0m\u001b[1;33m\u001b[0m\u001b[0m\n\u001b[0m",
      "\u001b[1;32m<ipython-input-52-38073c990b7f>\u001b[0m in \u001b[0;36mgrid_search_log_reg\u001b[1;34m(dataframe, target)\u001b[0m\n\u001b[0;32m     18\u001b[0m \u001b[1;33m\u001b[0m\u001b[0m\n\u001b[0;32m     19\u001b[0m     \u001b[1;31m# Predict on the preprocessed test file\u001b[0m\u001b[1;33m\u001b[0m\u001b[1;33m\u001b[0m\u001b[1;33m\u001b[0m\u001b[0m\n\u001b[1;32m---> 20\u001b[1;33m     \u001b[0my_pred\u001b[0m \u001b[1;33m=\u001b[0m \u001b[0mgrid_search\u001b[0m\u001b[1;33m.\u001b[0m\u001b[0mpredict\u001b[0m\u001b[1;33m(\u001b[0m\u001b[0mtest\u001b[0m\u001b[1;33m)\u001b[0m\u001b[1;33m\u001b[0m\u001b[1;33m\u001b[0m\u001b[0m\n\u001b[0m\u001b[0;32m     21\u001b[0m     \u001b[1;32mreturn\u001b[0m \u001b[0my_pred\u001b[0m\u001b[1;33m\u001b[0m\u001b[1;33m\u001b[0m\u001b[0m\n\u001b[0;32m     22\u001b[0m \u001b[1;33m\u001b[0m\u001b[0m\n",
      "\u001b[1;32mC:\\ProgramData\\Anaconda3\\lib\\site-packages\\sklearn\\utils\\metaestimators.py\u001b[0m in \u001b[0;36m<lambda>\u001b[1;34m(*args, **kwargs)\u001b[0m\n\u001b[0;32m    113\u001b[0m \u001b[1;33m\u001b[0m\u001b[0m\n\u001b[0;32m    114\u001b[0m         \u001b[1;31m# lambda, but not partial, allows help() to work with update_wrapper\u001b[0m\u001b[1;33m\u001b[0m\u001b[1;33m\u001b[0m\u001b[1;33m\u001b[0m\u001b[0m\n\u001b[1;32m--> 115\u001b[1;33m         \u001b[0mout\u001b[0m \u001b[1;33m=\u001b[0m \u001b[1;32mlambda\u001b[0m \u001b[1;33m*\u001b[0m\u001b[0margs\u001b[0m\u001b[1;33m,\u001b[0m \u001b[1;33m**\u001b[0m\u001b[0mkwargs\u001b[0m\u001b[1;33m:\u001b[0m \u001b[0mself\u001b[0m\u001b[1;33m.\u001b[0m\u001b[0mfn\u001b[0m\u001b[1;33m(\u001b[0m\u001b[0mobj\u001b[0m\u001b[1;33m,\u001b[0m \u001b[1;33m*\u001b[0m\u001b[0margs\u001b[0m\u001b[1;33m,\u001b[0m \u001b[1;33m**\u001b[0m\u001b[0mkwargs\u001b[0m\u001b[1;33m)\u001b[0m\u001b[1;33m\u001b[0m\u001b[1;33m\u001b[0m\u001b[0m\n\u001b[0m\u001b[0;32m    116\u001b[0m         \u001b[1;31m# update the docstring of the returned function\u001b[0m\u001b[1;33m\u001b[0m\u001b[1;33m\u001b[0m\u001b[1;33m\u001b[0m\u001b[0m\n\u001b[0;32m    117\u001b[0m         \u001b[0mupdate_wrapper\u001b[0m\u001b[1;33m(\u001b[0m\u001b[0mout\u001b[0m\u001b[1;33m,\u001b[0m \u001b[0mself\u001b[0m\u001b[1;33m.\u001b[0m\u001b[0mfn\u001b[0m\u001b[1;33m)\u001b[0m\u001b[1;33m\u001b[0m\u001b[1;33m\u001b[0m\u001b[0m\n",
      "\u001b[1;32mC:\\ProgramData\\Anaconda3\\lib\\site-packages\\sklearn\\model_selection\\_search.py\u001b[0m in \u001b[0;36mpredict\u001b[1;34m(self, X)\u001b[0m\n\u001b[0;32m    466\u001b[0m         \"\"\"\n\u001b[0;32m    467\u001b[0m         \u001b[0mself\u001b[0m\u001b[1;33m.\u001b[0m\u001b[0m_check_is_fitted\u001b[0m\u001b[1;33m(\u001b[0m\u001b[1;34m'predict'\u001b[0m\u001b[1;33m)\u001b[0m\u001b[1;33m\u001b[0m\u001b[1;33m\u001b[0m\u001b[0m\n\u001b[1;32m--> 468\u001b[1;33m         \u001b[1;32mreturn\u001b[0m \u001b[0mself\u001b[0m\u001b[1;33m.\u001b[0m\u001b[0mbest_estimator_\u001b[0m\u001b[1;33m.\u001b[0m\u001b[0mpredict\u001b[0m\u001b[1;33m(\u001b[0m\u001b[0mX\u001b[0m\u001b[1;33m)\u001b[0m\u001b[1;33m\u001b[0m\u001b[1;33m\u001b[0m\u001b[0m\n\u001b[0m\u001b[0;32m    469\u001b[0m \u001b[1;33m\u001b[0m\u001b[0m\n\u001b[0;32m    470\u001b[0m     \u001b[1;33m@\u001b[0m\u001b[0mif_delegate_has_method\u001b[0m\u001b[1;33m(\u001b[0m\u001b[0mdelegate\u001b[0m\u001b[1;33m=\u001b[0m\u001b[1;33m(\u001b[0m\u001b[1;34m'best_estimator_'\u001b[0m\u001b[1;33m,\u001b[0m \u001b[1;34m'estimator'\u001b[0m\u001b[1;33m)\u001b[0m\u001b[1;33m)\u001b[0m\u001b[1;33m\u001b[0m\u001b[1;33m\u001b[0m\u001b[0m\n",
      "\u001b[1;32mC:\\ProgramData\\Anaconda3\\lib\\site-packages\\sklearn\\linear_model\\base.py\u001b[0m in \u001b[0;36mpredict\u001b[1;34m(self, X)\u001b[0m\n\u001b[0;32m    322\u001b[0m             \u001b[0mPredicted\u001b[0m \u001b[1;32mclass\u001b[0m \u001b[0mlabel\u001b[0m \u001b[0mper\u001b[0m \u001b[0msample\u001b[0m\u001b[1;33m.\u001b[0m\u001b[1;33m\u001b[0m\u001b[1;33m\u001b[0m\u001b[0m\n\u001b[0;32m    323\u001b[0m         \"\"\"\n\u001b[1;32m--> 324\u001b[1;33m         \u001b[0mscores\u001b[0m \u001b[1;33m=\u001b[0m \u001b[0mself\u001b[0m\u001b[1;33m.\u001b[0m\u001b[0mdecision_function\u001b[0m\u001b[1;33m(\u001b[0m\u001b[0mX\u001b[0m\u001b[1;33m)\u001b[0m\u001b[1;33m\u001b[0m\u001b[1;33m\u001b[0m\u001b[0m\n\u001b[0m\u001b[0;32m    325\u001b[0m         \u001b[1;32mif\u001b[0m \u001b[0mlen\u001b[0m\u001b[1;33m(\u001b[0m\u001b[0mscores\u001b[0m\u001b[1;33m.\u001b[0m\u001b[0mshape\u001b[0m\u001b[1;33m)\u001b[0m \u001b[1;33m==\u001b[0m \u001b[1;36m1\u001b[0m\u001b[1;33m:\u001b[0m\u001b[1;33m\u001b[0m\u001b[1;33m\u001b[0m\u001b[0m\n\u001b[0;32m    326\u001b[0m             \u001b[0mindices\u001b[0m \u001b[1;33m=\u001b[0m \u001b[1;33m(\u001b[0m\u001b[0mscores\u001b[0m \u001b[1;33m>\u001b[0m \u001b[1;36m0\u001b[0m\u001b[1;33m)\u001b[0m\u001b[1;33m.\u001b[0m\u001b[0mastype\u001b[0m\u001b[1;33m(\u001b[0m\u001b[0mnp\u001b[0m\u001b[1;33m.\u001b[0m\u001b[0mint\u001b[0m\u001b[1;33m)\u001b[0m\u001b[1;33m\u001b[0m\u001b[1;33m\u001b[0m\u001b[0m\n",
      "\u001b[1;32mC:\\ProgramData\\Anaconda3\\lib\\site-packages\\sklearn\\linear_model\\base.py\u001b[0m in \u001b[0;36mdecision_function\u001b[1;34m(self, X)\u001b[0m\n\u001b[0;32m    303\u001b[0m         \u001b[1;32mif\u001b[0m \u001b[0mX\u001b[0m\u001b[1;33m.\u001b[0m\u001b[0mshape\u001b[0m\u001b[1;33m[\u001b[0m\u001b[1;36m1\u001b[0m\u001b[1;33m]\u001b[0m \u001b[1;33m!=\u001b[0m \u001b[0mn_features\u001b[0m\u001b[1;33m:\u001b[0m\u001b[1;33m\u001b[0m\u001b[1;33m\u001b[0m\u001b[0m\n\u001b[0;32m    304\u001b[0m             raise ValueError(\"X has %d features per sample; expecting %d\"\n\u001b[1;32m--> 305\u001b[1;33m                              % (X.shape[1], n_features))\n\u001b[0m\u001b[0;32m    306\u001b[0m \u001b[1;33m\u001b[0m\u001b[0m\n\u001b[0;32m    307\u001b[0m         scores = safe_sparse_dot(X, self.coef_.T,\n",
      "\u001b[1;31mValueError\u001b[0m: X has 2 features per sample; expecting 9"
     ]
    }
   ],
   "source": [
    "def grid_search_log_reg(dataframe,target):\n",
    "\n",
    "\n",
    "    x_train,x_val,y_train,y_val = train_test_split(dataframe, target, test_size=0.3, random_state=42)\n",
    "\n",
    "    smote = SMOTE(kind='regular')\n",
    "    X_sm, y_sm =  smote.fit_sample(x_train, y_train)\n",
    "\n",
    "\n",
    "    log_reg = LogisticRegression()\n",
    "\n",
    "    param_grid = { \n",
    "        'C' : np.logspace(-5, 8, 15)\n",
    "    }\n",
    "    grid_search = GridSearchCV(log_reg, param_grid=param_grid)\n",
    "\n",
    "    grid_search.fit(X_sm, y_sm)\n",
    "    \n",
    "    # Predict on the preprocessed test file\n",
    "    y_pred = grid_search.predict(test)\n",
    "    return y_pred\n",
    "\n",
    "y_pred = grid_search_log_reg(X,y)\n"
   ]
  },
  {
   "cell_type": "code",
   "execution_count": null,
   "metadata": {},
   "outputs": [],
   "source": [
    "prediction = pd.DataFrame(y_pred, columns=['y'])\n",
    "submission = pd.concat([Id,prediction['y']],1)\n",
    "\n",
    "submission.to_csv('../data/submission.csv',index=False)"
   ]
  },
  {
   "cell_type": "code",
   "execution_count": 3,
   "metadata": {},
   "outputs": [
    {
     "data": {
      "text/plain": [
       "0.2"
      ]
     },
     "execution_count": 3,
     "metadata": {},
     "output_type": "execute_result"
    }
   ],
   "source": [
    "a= [4.2,6.2,8.2,0.2]\n",
    "min(a)"
   ]
  },
  {
   "cell_type": "code",
   "execution_count": null,
   "metadata": {},
   "outputs": [],
   "source": []
  }
 ],
 "metadata": {
  "kernelspec": {
   "display_name": "Python 3",
   "language": "python",
   "name": "python3"
  },
  "language_info": {
   "codemirror_mode": {
    "name": "ipython",
    "version": 3
   },
   "file_extension": ".py",
   "mimetype": "text/x-python",
   "name": "python",
   "nbconvert_exporter": "python",
   "pygments_lexer": "ipython3",
   "version": "3.7.6"
  }
 },
 "nbformat": 4,
 "nbformat_minor": 2
}
